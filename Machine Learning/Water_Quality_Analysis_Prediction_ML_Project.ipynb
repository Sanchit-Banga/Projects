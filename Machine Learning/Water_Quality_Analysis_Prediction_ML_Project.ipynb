{
  "nbformat": 4,
  "nbformat_minor": 0,
  "metadata": {
    "colab": {
      "provenance": [],
      "collapsed_sections": []
    },
    "kernelspec": {
      "name": "python3",
      "display_name": "Python 3"
    },
    "language_info": {
      "name": "python"
    }
  },
  "cells": [
    {
      "cell_type": "markdown",
      "source": [
        "# Water Quality Analysis Prediction"
      ],
      "metadata": {
        "id": "qUSPwLJUaoNF"
      }
    },
    {
      "cell_type": "markdown",
      "source": [
        "\n",
        "Importing necessary libraries\n",
        "---\n",
        "\n"
      ],
      "metadata": {
        "id": "w471PmUCGTkn"
      }
    },
    {
      "cell_type": "code",
      "source": [
        "import pandas as pd"
      ],
      "metadata": {
        "id": "-otGEqQCaz2q"
      },
      "execution_count": 78,
      "outputs": []
    },
    {
      "cell_type": "code",
      "source": [
        "import matplotlib.pyplot as plt"
      ],
      "metadata": {
        "id": "_R0aEJbabAu8"
      },
      "execution_count": 79,
      "outputs": []
    },
    {
      "cell_type": "code",
      "source": [
        "import seaborn as sns"
      ],
      "metadata": {
        "id": "rbYykQf0bFQx"
      },
      "execution_count": 80,
      "outputs": []
    },
    {
      "cell_type": "code",
      "source": [
        "import numpy as np"
      ],
      "metadata": {
        "id": "MiT9itXTfgju"
      },
      "execution_count": 146,
      "outputs": []
    },
    {
      "cell_type": "code",
      "source": [],
      "metadata": {
        "id": "E6Cb9fCDnaq_"
      },
      "execution_count": null,
      "outputs": []
    },
    {
      "cell_type": "code",
      "source": [
        "# Importing .csv dataset"
      ],
      "metadata": {
        "id": "AaRn08vjbVVk"
      },
      "execution_count": 81,
      "outputs": []
    },
    {
      "cell_type": "code",
      "source": [
        "from google.colab import files\n",
        "\n",
        "uploaded = files.upload()"
      ],
      "metadata": {
        "colab": {
          "base_uri": "https://localhost:8080/",
          "height": 74
        },
        "id": "tLTxB4THb-b_",
        "outputId": "1e604184-5748-43e6-80ea-7e682e5ab63d"
      },
      "execution_count": 82,
      "outputs": [
        {
          "output_type": "display_data",
          "data": {
            "text/plain": [
              "<IPython.core.display.HTML object>"
            ],
            "text/html": [
              "\n",
              "     <input type=\"file\" id=\"files-6e1f5406-ab8b-491d-87b2-4cf04b535a08\" name=\"files[]\" multiple disabled\n",
              "        style=\"border:none\" />\n",
              "     <output id=\"result-6e1f5406-ab8b-491d-87b2-4cf04b535a08\">\n",
              "      Upload widget is only available when the cell has been executed in the\n",
              "      current browser session. Please rerun this cell to enable.\n",
              "      </output>\n",
              "      <script>// Copyright 2017 Google LLC\n",
              "//\n",
              "// Licensed under the Apache License, Version 2.0 (the \"License\");\n",
              "// you may not use this file except in compliance with the License.\n",
              "// You may obtain a copy of the License at\n",
              "//\n",
              "//      http://www.apache.org/licenses/LICENSE-2.0\n",
              "//\n",
              "// Unless required by applicable law or agreed to in writing, software\n",
              "// distributed under the License is distributed on an \"AS IS\" BASIS,\n",
              "// WITHOUT WARRANTIES OR CONDITIONS OF ANY KIND, either express or implied.\n",
              "// See the License for the specific language governing permissions and\n",
              "// limitations under the License.\n",
              "\n",
              "/**\n",
              " * @fileoverview Helpers for google.colab Python module.\n",
              " */\n",
              "(function(scope) {\n",
              "function span(text, styleAttributes = {}) {\n",
              "  const element = document.createElement('span');\n",
              "  element.textContent = text;\n",
              "  for (const key of Object.keys(styleAttributes)) {\n",
              "    element.style[key] = styleAttributes[key];\n",
              "  }\n",
              "  return element;\n",
              "}\n",
              "\n",
              "// Max number of bytes which will be uploaded at a time.\n",
              "const MAX_PAYLOAD_SIZE = 100 * 1024;\n",
              "\n",
              "function _uploadFiles(inputId, outputId) {\n",
              "  const steps = uploadFilesStep(inputId, outputId);\n",
              "  const outputElement = document.getElementById(outputId);\n",
              "  // Cache steps on the outputElement to make it available for the next call\n",
              "  // to uploadFilesContinue from Python.\n",
              "  outputElement.steps = steps;\n",
              "\n",
              "  return _uploadFilesContinue(outputId);\n",
              "}\n",
              "\n",
              "// This is roughly an async generator (not supported in the browser yet),\n",
              "// where there are multiple asynchronous steps and the Python side is going\n",
              "// to poll for completion of each step.\n",
              "// This uses a Promise to block the python side on completion of each step,\n",
              "// then passes the result of the previous step as the input to the next step.\n",
              "function _uploadFilesContinue(outputId) {\n",
              "  const outputElement = document.getElementById(outputId);\n",
              "  const steps = outputElement.steps;\n",
              "\n",
              "  const next = steps.next(outputElement.lastPromiseValue);\n",
              "  return Promise.resolve(next.value.promise).then((value) => {\n",
              "    // Cache the last promise value to make it available to the next\n",
              "    // step of the generator.\n",
              "    outputElement.lastPromiseValue = value;\n",
              "    return next.value.response;\n",
              "  });\n",
              "}\n",
              "\n",
              "/**\n",
              " * Generator function which is called between each async step of the upload\n",
              " * process.\n",
              " * @param {string} inputId Element ID of the input file picker element.\n",
              " * @param {string} outputId Element ID of the output display.\n",
              " * @return {!Iterable<!Object>} Iterable of next steps.\n",
              " */\n",
              "function* uploadFilesStep(inputId, outputId) {\n",
              "  const inputElement = document.getElementById(inputId);\n",
              "  inputElement.disabled = false;\n",
              "\n",
              "  const outputElement = document.getElementById(outputId);\n",
              "  outputElement.innerHTML = '';\n",
              "\n",
              "  const pickedPromise = new Promise((resolve) => {\n",
              "    inputElement.addEventListener('change', (e) => {\n",
              "      resolve(e.target.files);\n",
              "    });\n",
              "  });\n",
              "\n",
              "  const cancel = document.createElement('button');\n",
              "  inputElement.parentElement.appendChild(cancel);\n",
              "  cancel.textContent = 'Cancel upload';\n",
              "  const cancelPromise = new Promise((resolve) => {\n",
              "    cancel.onclick = () => {\n",
              "      resolve(null);\n",
              "    };\n",
              "  });\n",
              "\n",
              "  // Wait for the user to pick the files.\n",
              "  const files = yield {\n",
              "    promise: Promise.race([pickedPromise, cancelPromise]),\n",
              "    response: {\n",
              "      action: 'starting',\n",
              "    }\n",
              "  };\n",
              "\n",
              "  cancel.remove();\n",
              "\n",
              "  // Disable the input element since further picks are not allowed.\n",
              "  inputElement.disabled = true;\n",
              "\n",
              "  if (!files) {\n",
              "    return {\n",
              "      response: {\n",
              "        action: 'complete',\n",
              "      }\n",
              "    };\n",
              "  }\n",
              "\n",
              "  for (const file of files) {\n",
              "    const li = document.createElement('li');\n",
              "    li.append(span(file.name, {fontWeight: 'bold'}));\n",
              "    li.append(span(\n",
              "        `(${file.type || 'n/a'}) - ${file.size} bytes, ` +\n",
              "        `last modified: ${\n",
              "            file.lastModifiedDate ? file.lastModifiedDate.toLocaleDateString() :\n",
              "                                    'n/a'} - `));\n",
              "    const percent = span('0% done');\n",
              "    li.appendChild(percent);\n",
              "\n",
              "    outputElement.appendChild(li);\n",
              "\n",
              "    const fileDataPromise = new Promise((resolve) => {\n",
              "      const reader = new FileReader();\n",
              "      reader.onload = (e) => {\n",
              "        resolve(e.target.result);\n",
              "      };\n",
              "      reader.readAsArrayBuffer(file);\n",
              "    });\n",
              "    // Wait for the data to be ready.\n",
              "    let fileData = yield {\n",
              "      promise: fileDataPromise,\n",
              "      response: {\n",
              "        action: 'continue',\n",
              "      }\n",
              "    };\n",
              "\n",
              "    // Use a chunked sending to avoid message size limits. See b/62115660.\n",
              "    let position = 0;\n",
              "    do {\n",
              "      const length = Math.min(fileData.byteLength - position, MAX_PAYLOAD_SIZE);\n",
              "      const chunk = new Uint8Array(fileData, position, length);\n",
              "      position += length;\n",
              "\n",
              "      const base64 = btoa(String.fromCharCode.apply(null, chunk));\n",
              "      yield {\n",
              "        response: {\n",
              "          action: 'append',\n",
              "          file: file.name,\n",
              "          data: base64,\n",
              "        },\n",
              "      };\n",
              "\n",
              "      let percentDone = fileData.byteLength === 0 ?\n",
              "          100 :\n",
              "          Math.round((position / fileData.byteLength) * 100);\n",
              "      percent.textContent = `${percentDone}% done`;\n",
              "\n",
              "    } while (position < fileData.byteLength);\n",
              "  }\n",
              "\n",
              "  // All done.\n",
              "  yield {\n",
              "    response: {\n",
              "      action: 'complete',\n",
              "    }\n",
              "  };\n",
              "}\n",
              "\n",
              "scope.google = scope.google || {};\n",
              "scope.google.colab = scope.google.colab || {};\n",
              "scope.google.colab._files = {\n",
              "  _uploadFiles,\n",
              "  _uploadFilesContinue,\n",
              "};\n",
              "})(self);\n",
              "</script> "
            ]
          },
          "metadata": {}
        },
        {
          "output_type": "stream",
          "name": "stdout",
          "text": [
            "Saving water_potability.csv to water_potability (2).csv\n"
          ]
        }
      ]
    },
    {
      "cell_type": "code",
      "source": [],
      "metadata": {
        "id": "d8T0SRevchIr"
      },
      "execution_count": 82,
      "outputs": []
    },
    {
      "cell_type": "code",
      "source": [
        "# Reading the dataset"
      ],
      "metadata": {
        "id": "rmSz86r4cFV6"
      },
      "execution_count": 83,
      "outputs": []
    },
    {
      "cell_type": "code",
      "source": [
        "data = pd.read_csv('/content/water_potability.csv')"
      ],
      "metadata": {
        "id": "ZU5cYgpjcRcd"
      },
      "execution_count": 84,
      "outputs": []
    },
    {
      "cell_type": "code",
      "source": [],
      "metadata": {
        "id": "-g0OCnHOcbWd"
      },
      "execution_count": 84,
      "outputs": []
    },
    {
      "cell_type": "code",
      "source": [
        "data.head()"
      ],
      "metadata": {
        "colab": {
          "base_uri": "https://localhost:8080/",
          "height": 206
        },
        "id": "rAqTAQc9ch_Q",
        "outputId": "75e2bbc2-7613-427f-9be0-10df8224e4da"
      },
      "execution_count": 85,
      "outputs": [
        {
          "output_type": "execute_result",
          "data": {
            "text/plain": [
              "         ph    Hardness        Solids  Chloramines     Sulfate  Conductivity  \\\n",
              "0       NaN  204.890455  20791.318981     7.300212  368.516441    564.308654   \n",
              "1  3.716080  129.422921  18630.057858     6.635246         NaN    592.885359   \n",
              "2  8.099124  224.236259  19909.541732     9.275884         NaN    418.606213   \n",
              "3  8.316766  214.373394  22018.417441     8.059332  356.886136    363.266516   \n",
              "4  9.092223  181.101509  17978.986339     6.546600  310.135738    398.410813   \n",
              "\n",
              "   Organic_carbon  Trihalomethanes  Turbidity  Potability  \n",
              "0       10.379783        86.990970   2.963135           0  \n",
              "1       15.180013        56.329076   4.500656           0  \n",
              "2       16.868637        66.420093   3.055934           0  \n",
              "3       18.436524       100.341674   4.628771           0  \n",
              "4       11.558279        31.997993   4.075075           0  "
            ],
            "text/html": [
              "\n",
              "  <div id=\"df-0a6d09c3-300e-4c9d-b46b-cab859d4d319\">\n",
              "    <div class=\"colab-df-container\">\n",
              "      <div>\n",
              "<style scoped>\n",
              "    .dataframe tbody tr th:only-of-type {\n",
              "        vertical-align: middle;\n",
              "    }\n",
              "\n",
              "    .dataframe tbody tr th {\n",
              "        vertical-align: top;\n",
              "    }\n",
              "\n",
              "    .dataframe thead th {\n",
              "        text-align: right;\n",
              "    }\n",
              "</style>\n",
              "<table border=\"1\" class=\"dataframe\">\n",
              "  <thead>\n",
              "    <tr style=\"text-align: right;\">\n",
              "      <th></th>\n",
              "      <th>ph</th>\n",
              "      <th>Hardness</th>\n",
              "      <th>Solids</th>\n",
              "      <th>Chloramines</th>\n",
              "      <th>Sulfate</th>\n",
              "      <th>Conductivity</th>\n",
              "      <th>Organic_carbon</th>\n",
              "      <th>Trihalomethanes</th>\n",
              "      <th>Turbidity</th>\n",
              "      <th>Potability</th>\n",
              "    </tr>\n",
              "  </thead>\n",
              "  <tbody>\n",
              "    <tr>\n",
              "      <th>0</th>\n",
              "      <td>NaN</td>\n",
              "      <td>204.890455</td>\n",
              "      <td>20791.318981</td>\n",
              "      <td>7.300212</td>\n",
              "      <td>368.516441</td>\n",
              "      <td>564.308654</td>\n",
              "      <td>10.379783</td>\n",
              "      <td>86.990970</td>\n",
              "      <td>2.963135</td>\n",
              "      <td>0</td>\n",
              "    </tr>\n",
              "    <tr>\n",
              "      <th>1</th>\n",
              "      <td>3.716080</td>\n",
              "      <td>129.422921</td>\n",
              "      <td>18630.057858</td>\n",
              "      <td>6.635246</td>\n",
              "      <td>NaN</td>\n",
              "      <td>592.885359</td>\n",
              "      <td>15.180013</td>\n",
              "      <td>56.329076</td>\n",
              "      <td>4.500656</td>\n",
              "      <td>0</td>\n",
              "    </tr>\n",
              "    <tr>\n",
              "      <th>2</th>\n",
              "      <td>8.099124</td>\n",
              "      <td>224.236259</td>\n",
              "      <td>19909.541732</td>\n",
              "      <td>9.275884</td>\n",
              "      <td>NaN</td>\n",
              "      <td>418.606213</td>\n",
              "      <td>16.868637</td>\n",
              "      <td>66.420093</td>\n",
              "      <td>3.055934</td>\n",
              "      <td>0</td>\n",
              "    </tr>\n",
              "    <tr>\n",
              "      <th>3</th>\n",
              "      <td>8.316766</td>\n",
              "      <td>214.373394</td>\n",
              "      <td>22018.417441</td>\n",
              "      <td>8.059332</td>\n",
              "      <td>356.886136</td>\n",
              "      <td>363.266516</td>\n",
              "      <td>18.436524</td>\n",
              "      <td>100.341674</td>\n",
              "      <td>4.628771</td>\n",
              "      <td>0</td>\n",
              "    </tr>\n",
              "    <tr>\n",
              "      <th>4</th>\n",
              "      <td>9.092223</td>\n",
              "      <td>181.101509</td>\n",
              "      <td>17978.986339</td>\n",
              "      <td>6.546600</td>\n",
              "      <td>310.135738</td>\n",
              "      <td>398.410813</td>\n",
              "      <td>11.558279</td>\n",
              "      <td>31.997993</td>\n",
              "      <td>4.075075</td>\n",
              "      <td>0</td>\n",
              "    </tr>\n",
              "  </tbody>\n",
              "</table>\n",
              "</div>\n",
              "      <button class=\"colab-df-convert\" onclick=\"convertToInteractive('df-0a6d09c3-300e-4c9d-b46b-cab859d4d319')\"\n",
              "              title=\"Convert this dataframe to an interactive table.\"\n",
              "              style=\"display:none;\">\n",
              "        \n",
              "  <svg xmlns=\"http://www.w3.org/2000/svg\" height=\"24px\"viewBox=\"0 0 24 24\"\n",
              "       width=\"24px\">\n",
              "    <path d=\"M0 0h24v24H0V0z\" fill=\"none\"/>\n",
              "    <path d=\"M18.56 5.44l.94 2.06.94-2.06 2.06-.94-2.06-.94-.94-2.06-.94 2.06-2.06.94zm-11 1L8.5 8.5l.94-2.06 2.06-.94-2.06-.94L8.5 2.5l-.94 2.06-2.06.94zm10 10l.94 2.06.94-2.06 2.06-.94-2.06-.94-.94-2.06-.94 2.06-2.06.94z\"/><path d=\"M17.41 7.96l-1.37-1.37c-.4-.4-.92-.59-1.43-.59-.52 0-1.04.2-1.43.59L10.3 9.45l-7.72 7.72c-.78.78-.78 2.05 0 2.83L4 21.41c.39.39.9.59 1.41.59.51 0 1.02-.2 1.41-.59l7.78-7.78 2.81-2.81c.8-.78.8-2.07 0-2.86zM5.41 20L4 18.59l7.72-7.72 1.47 1.35L5.41 20z\"/>\n",
              "  </svg>\n",
              "      </button>\n",
              "      \n",
              "  <style>\n",
              "    .colab-df-container {\n",
              "      display:flex;\n",
              "      flex-wrap:wrap;\n",
              "      gap: 12px;\n",
              "    }\n",
              "\n",
              "    .colab-df-convert {\n",
              "      background-color: #E8F0FE;\n",
              "      border: none;\n",
              "      border-radius: 50%;\n",
              "      cursor: pointer;\n",
              "      display: none;\n",
              "      fill: #1967D2;\n",
              "      height: 32px;\n",
              "      padding: 0 0 0 0;\n",
              "      width: 32px;\n",
              "    }\n",
              "\n",
              "    .colab-df-convert:hover {\n",
              "      background-color: #E2EBFA;\n",
              "      box-shadow: 0px 1px 2px rgba(60, 64, 67, 0.3), 0px 1px 3px 1px rgba(60, 64, 67, 0.15);\n",
              "      fill: #174EA6;\n",
              "    }\n",
              "\n",
              "    [theme=dark] .colab-df-convert {\n",
              "      background-color: #3B4455;\n",
              "      fill: #D2E3FC;\n",
              "    }\n",
              "\n",
              "    [theme=dark] .colab-df-convert:hover {\n",
              "      background-color: #434B5C;\n",
              "      box-shadow: 0px 1px 3px 1px rgba(0, 0, 0, 0.15);\n",
              "      filter: drop-shadow(0px 1px 2px rgba(0, 0, 0, 0.3));\n",
              "      fill: #FFFFFF;\n",
              "    }\n",
              "  </style>\n",
              "\n",
              "      <script>\n",
              "        const buttonEl =\n",
              "          document.querySelector('#df-0a6d09c3-300e-4c9d-b46b-cab859d4d319 button.colab-df-convert');\n",
              "        buttonEl.style.display =\n",
              "          google.colab.kernel.accessAllowed ? 'block' : 'none';\n",
              "\n",
              "        async function convertToInteractive(key) {\n",
              "          const element = document.querySelector('#df-0a6d09c3-300e-4c9d-b46b-cab859d4d319');\n",
              "          const dataTable =\n",
              "            await google.colab.kernel.invokeFunction('convertToInteractive',\n",
              "                                                     [key], {});\n",
              "          if (!dataTable) return;\n",
              "\n",
              "          const docLinkHtml = 'Like what you see? Visit the ' +\n",
              "            '<a target=\"_blank\" href=https://colab.research.google.com/notebooks/data_table.ipynb>data table notebook</a>'\n",
              "            + ' to learn more about interactive tables.';\n",
              "          element.innerHTML = '';\n",
              "          dataTable['output_type'] = 'display_data';\n",
              "          await google.colab.output.renderOutput(dataTable, element);\n",
              "          const docLink = document.createElement('div');\n",
              "          docLink.innerHTML = docLinkHtml;\n",
              "          element.appendChild(docLink);\n",
              "        }\n",
              "      </script>\n",
              "    </div>\n",
              "  </div>\n",
              "  "
            ]
          },
          "metadata": {},
          "execution_count": 85
        }
      ]
    },
    {
      "cell_type": "code",
      "source": [
        "data"
      ],
      "metadata": {
        "colab": {
          "base_uri": "https://localhost:8080/",
          "height": 424
        },
        "id": "y_ybhw_lck-0",
        "outputId": "1a6cf113-dcfc-44f6-92d1-6c4c68de6478"
      },
      "execution_count": 86,
      "outputs": [
        {
          "output_type": "execute_result",
          "data": {
            "text/plain": [
              "            ph    Hardness        Solids  Chloramines     Sulfate  \\\n",
              "0          NaN  204.890455  20791.318981     7.300212  368.516441   \n",
              "1     3.716080  129.422921  18630.057858     6.635246         NaN   \n",
              "2     8.099124  224.236259  19909.541732     9.275884         NaN   \n",
              "3     8.316766  214.373394  22018.417441     8.059332  356.886136   \n",
              "4     9.092223  181.101509  17978.986339     6.546600  310.135738   \n",
              "...        ...         ...           ...          ...         ...   \n",
              "3271  4.668102  193.681735  47580.991603     7.166639  359.948574   \n",
              "3272  7.808856  193.553212  17329.802160     8.061362         NaN   \n",
              "3273  9.419510  175.762646  33155.578218     7.350233         NaN   \n",
              "3274  5.126763  230.603758  11983.869376     6.303357         NaN   \n",
              "3275  7.874671  195.102299  17404.177061     7.509306         NaN   \n",
              "\n",
              "      Conductivity  Organic_carbon  Trihalomethanes  Turbidity  Potability  \n",
              "0       564.308654       10.379783        86.990970   2.963135           0  \n",
              "1       592.885359       15.180013        56.329076   4.500656           0  \n",
              "2       418.606213       16.868637        66.420093   3.055934           0  \n",
              "3       363.266516       18.436524       100.341674   4.628771           0  \n",
              "4       398.410813       11.558279        31.997993   4.075075           0  \n",
              "...            ...             ...              ...        ...         ...  \n",
              "3271    526.424171       13.894419        66.687695   4.435821           1  \n",
              "3272    392.449580       19.903225              NaN   2.798243           1  \n",
              "3273    432.044783       11.039070        69.845400   3.298875           1  \n",
              "3274    402.883113       11.168946        77.488213   4.708658           1  \n",
              "3275    327.459760       16.140368        78.698446   2.309149           1  \n",
              "\n",
              "[3276 rows x 10 columns]"
            ],
            "text/html": [
              "\n",
              "  <div id=\"df-165bb7c3-a152-46ba-b7c8-648c6aff6009\">\n",
              "    <div class=\"colab-df-container\">\n",
              "      <div>\n",
              "<style scoped>\n",
              "    .dataframe tbody tr th:only-of-type {\n",
              "        vertical-align: middle;\n",
              "    }\n",
              "\n",
              "    .dataframe tbody tr th {\n",
              "        vertical-align: top;\n",
              "    }\n",
              "\n",
              "    .dataframe thead th {\n",
              "        text-align: right;\n",
              "    }\n",
              "</style>\n",
              "<table border=\"1\" class=\"dataframe\">\n",
              "  <thead>\n",
              "    <tr style=\"text-align: right;\">\n",
              "      <th></th>\n",
              "      <th>ph</th>\n",
              "      <th>Hardness</th>\n",
              "      <th>Solids</th>\n",
              "      <th>Chloramines</th>\n",
              "      <th>Sulfate</th>\n",
              "      <th>Conductivity</th>\n",
              "      <th>Organic_carbon</th>\n",
              "      <th>Trihalomethanes</th>\n",
              "      <th>Turbidity</th>\n",
              "      <th>Potability</th>\n",
              "    </tr>\n",
              "  </thead>\n",
              "  <tbody>\n",
              "    <tr>\n",
              "      <th>0</th>\n",
              "      <td>NaN</td>\n",
              "      <td>204.890455</td>\n",
              "      <td>20791.318981</td>\n",
              "      <td>7.300212</td>\n",
              "      <td>368.516441</td>\n",
              "      <td>564.308654</td>\n",
              "      <td>10.379783</td>\n",
              "      <td>86.990970</td>\n",
              "      <td>2.963135</td>\n",
              "      <td>0</td>\n",
              "    </tr>\n",
              "    <tr>\n",
              "      <th>1</th>\n",
              "      <td>3.716080</td>\n",
              "      <td>129.422921</td>\n",
              "      <td>18630.057858</td>\n",
              "      <td>6.635246</td>\n",
              "      <td>NaN</td>\n",
              "      <td>592.885359</td>\n",
              "      <td>15.180013</td>\n",
              "      <td>56.329076</td>\n",
              "      <td>4.500656</td>\n",
              "      <td>0</td>\n",
              "    </tr>\n",
              "    <tr>\n",
              "      <th>2</th>\n",
              "      <td>8.099124</td>\n",
              "      <td>224.236259</td>\n",
              "      <td>19909.541732</td>\n",
              "      <td>9.275884</td>\n",
              "      <td>NaN</td>\n",
              "      <td>418.606213</td>\n",
              "      <td>16.868637</td>\n",
              "      <td>66.420093</td>\n",
              "      <td>3.055934</td>\n",
              "      <td>0</td>\n",
              "    </tr>\n",
              "    <tr>\n",
              "      <th>3</th>\n",
              "      <td>8.316766</td>\n",
              "      <td>214.373394</td>\n",
              "      <td>22018.417441</td>\n",
              "      <td>8.059332</td>\n",
              "      <td>356.886136</td>\n",
              "      <td>363.266516</td>\n",
              "      <td>18.436524</td>\n",
              "      <td>100.341674</td>\n",
              "      <td>4.628771</td>\n",
              "      <td>0</td>\n",
              "    </tr>\n",
              "    <tr>\n",
              "      <th>4</th>\n",
              "      <td>9.092223</td>\n",
              "      <td>181.101509</td>\n",
              "      <td>17978.986339</td>\n",
              "      <td>6.546600</td>\n",
              "      <td>310.135738</td>\n",
              "      <td>398.410813</td>\n",
              "      <td>11.558279</td>\n",
              "      <td>31.997993</td>\n",
              "      <td>4.075075</td>\n",
              "      <td>0</td>\n",
              "    </tr>\n",
              "    <tr>\n",
              "      <th>...</th>\n",
              "      <td>...</td>\n",
              "      <td>...</td>\n",
              "      <td>...</td>\n",
              "      <td>...</td>\n",
              "      <td>...</td>\n",
              "      <td>...</td>\n",
              "      <td>...</td>\n",
              "      <td>...</td>\n",
              "      <td>...</td>\n",
              "      <td>...</td>\n",
              "    </tr>\n",
              "    <tr>\n",
              "      <th>3271</th>\n",
              "      <td>4.668102</td>\n",
              "      <td>193.681735</td>\n",
              "      <td>47580.991603</td>\n",
              "      <td>7.166639</td>\n",
              "      <td>359.948574</td>\n",
              "      <td>526.424171</td>\n",
              "      <td>13.894419</td>\n",
              "      <td>66.687695</td>\n",
              "      <td>4.435821</td>\n",
              "      <td>1</td>\n",
              "    </tr>\n",
              "    <tr>\n",
              "      <th>3272</th>\n",
              "      <td>7.808856</td>\n",
              "      <td>193.553212</td>\n",
              "      <td>17329.802160</td>\n",
              "      <td>8.061362</td>\n",
              "      <td>NaN</td>\n",
              "      <td>392.449580</td>\n",
              "      <td>19.903225</td>\n",
              "      <td>NaN</td>\n",
              "      <td>2.798243</td>\n",
              "      <td>1</td>\n",
              "    </tr>\n",
              "    <tr>\n",
              "      <th>3273</th>\n",
              "      <td>9.419510</td>\n",
              "      <td>175.762646</td>\n",
              "      <td>33155.578218</td>\n",
              "      <td>7.350233</td>\n",
              "      <td>NaN</td>\n",
              "      <td>432.044783</td>\n",
              "      <td>11.039070</td>\n",
              "      <td>69.845400</td>\n",
              "      <td>3.298875</td>\n",
              "      <td>1</td>\n",
              "    </tr>\n",
              "    <tr>\n",
              "      <th>3274</th>\n",
              "      <td>5.126763</td>\n",
              "      <td>230.603758</td>\n",
              "      <td>11983.869376</td>\n",
              "      <td>6.303357</td>\n",
              "      <td>NaN</td>\n",
              "      <td>402.883113</td>\n",
              "      <td>11.168946</td>\n",
              "      <td>77.488213</td>\n",
              "      <td>4.708658</td>\n",
              "      <td>1</td>\n",
              "    </tr>\n",
              "    <tr>\n",
              "      <th>3275</th>\n",
              "      <td>7.874671</td>\n",
              "      <td>195.102299</td>\n",
              "      <td>17404.177061</td>\n",
              "      <td>7.509306</td>\n",
              "      <td>NaN</td>\n",
              "      <td>327.459760</td>\n",
              "      <td>16.140368</td>\n",
              "      <td>78.698446</td>\n",
              "      <td>2.309149</td>\n",
              "      <td>1</td>\n",
              "    </tr>\n",
              "  </tbody>\n",
              "</table>\n",
              "<p>3276 rows × 10 columns</p>\n",
              "</div>\n",
              "      <button class=\"colab-df-convert\" onclick=\"convertToInteractive('df-165bb7c3-a152-46ba-b7c8-648c6aff6009')\"\n",
              "              title=\"Convert this dataframe to an interactive table.\"\n",
              "              style=\"display:none;\">\n",
              "        \n",
              "  <svg xmlns=\"http://www.w3.org/2000/svg\" height=\"24px\"viewBox=\"0 0 24 24\"\n",
              "       width=\"24px\">\n",
              "    <path d=\"M0 0h24v24H0V0z\" fill=\"none\"/>\n",
              "    <path d=\"M18.56 5.44l.94 2.06.94-2.06 2.06-.94-2.06-.94-.94-2.06-.94 2.06-2.06.94zm-11 1L8.5 8.5l.94-2.06 2.06-.94-2.06-.94L8.5 2.5l-.94 2.06-2.06.94zm10 10l.94 2.06.94-2.06 2.06-.94-2.06-.94-.94-2.06-.94 2.06-2.06.94z\"/><path d=\"M17.41 7.96l-1.37-1.37c-.4-.4-.92-.59-1.43-.59-.52 0-1.04.2-1.43.59L10.3 9.45l-7.72 7.72c-.78.78-.78 2.05 0 2.83L4 21.41c.39.39.9.59 1.41.59.51 0 1.02-.2 1.41-.59l7.78-7.78 2.81-2.81c.8-.78.8-2.07 0-2.86zM5.41 20L4 18.59l7.72-7.72 1.47 1.35L5.41 20z\"/>\n",
              "  </svg>\n",
              "      </button>\n",
              "      \n",
              "  <style>\n",
              "    .colab-df-container {\n",
              "      display:flex;\n",
              "      flex-wrap:wrap;\n",
              "      gap: 12px;\n",
              "    }\n",
              "\n",
              "    .colab-df-convert {\n",
              "      background-color: #E8F0FE;\n",
              "      border: none;\n",
              "      border-radius: 50%;\n",
              "      cursor: pointer;\n",
              "      display: none;\n",
              "      fill: #1967D2;\n",
              "      height: 32px;\n",
              "      padding: 0 0 0 0;\n",
              "      width: 32px;\n",
              "    }\n",
              "\n",
              "    .colab-df-convert:hover {\n",
              "      background-color: #E2EBFA;\n",
              "      box-shadow: 0px 1px 2px rgba(60, 64, 67, 0.3), 0px 1px 3px 1px rgba(60, 64, 67, 0.15);\n",
              "      fill: #174EA6;\n",
              "    }\n",
              "\n",
              "    [theme=dark] .colab-df-convert {\n",
              "      background-color: #3B4455;\n",
              "      fill: #D2E3FC;\n",
              "    }\n",
              "\n",
              "    [theme=dark] .colab-df-convert:hover {\n",
              "      background-color: #434B5C;\n",
              "      box-shadow: 0px 1px 3px 1px rgba(0, 0, 0, 0.15);\n",
              "      filter: drop-shadow(0px 1px 2px rgba(0, 0, 0, 0.3));\n",
              "      fill: #FFFFFF;\n",
              "    }\n",
              "  </style>\n",
              "\n",
              "      <script>\n",
              "        const buttonEl =\n",
              "          document.querySelector('#df-165bb7c3-a152-46ba-b7c8-648c6aff6009 button.colab-df-convert');\n",
              "        buttonEl.style.display =\n",
              "          google.colab.kernel.accessAllowed ? 'block' : 'none';\n",
              "\n",
              "        async function convertToInteractive(key) {\n",
              "          const element = document.querySelector('#df-165bb7c3-a152-46ba-b7c8-648c6aff6009');\n",
              "          const dataTable =\n",
              "            await google.colab.kernel.invokeFunction('convertToInteractive',\n",
              "                                                     [key], {});\n",
              "          if (!dataTable) return;\n",
              "\n",
              "          const docLinkHtml = 'Like what you see? Visit the ' +\n",
              "            '<a target=\"_blank\" href=https://colab.research.google.com/notebooks/data_table.ipynb>data table notebook</a>'\n",
              "            + ' to learn more about interactive tables.';\n",
              "          element.innerHTML = '';\n",
              "          dataTable['output_type'] = 'display_data';\n",
              "          await google.colab.output.renderOutput(dataTable, element);\n",
              "          const docLink = document.createElement('div');\n",
              "          docLink.innerHTML = docLinkHtml;\n",
              "          element.appendChild(docLink);\n",
              "        }\n",
              "      </script>\n",
              "    </div>\n",
              "  </div>\n",
              "  "
            ]
          },
          "metadata": {},
          "execution_count": 86
        }
      ]
    },
    {
      "cell_type": "code",
      "source": [],
      "metadata": {
        "id": "76HAYLoDpZdt"
      },
      "execution_count": 86,
      "outputs": []
    },
    {
      "cell_type": "code",
      "source": [
        "# Data Cleaning "
      ],
      "metadata": {
        "id": "tiQpiKhcpjkJ"
      },
      "execution_count": 87,
      "outputs": []
    },
    {
      "cell_type": "markdown",
      "source": [
        "Checking for Nan values in our dataset"
      ],
      "metadata": {
        "id": "3M_Ya8G2Ga2P"
      }
    },
    {
      "cell_type": "code",
      "source": [
        "data.info()"
      ],
      "metadata": {
        "colab": {
          "base_uri": "https://localhost:8080/"
        },
        "id": "_NBOJE_CuZei",
        "outputId": "4a2381be-57f9-4713-d297-0d79bc42e36a"
      },
      "execution_count": 88,
      "outputs": [
        {
          "output_type": "stream",
          "name": "stdout",
          "text": [
            "<class 'pandas.core.frame.DataFrame'>\n",
            "RangeIndex: 3276 entries, 0 to 3275\n",
            "Data columns (total 10 columns):\n",
            " #   Column           Non-Null Count  Dtype  \n",
            "---  ------           --------------  -----  \n",
            " 0   ph               2785 non-null   float64\n",
            " 1   Hardness         3276 non-null   float64\n",
            " 2   Solids           3276 non-null   float64\n",
            " 3   Chloramines      3276 non-null   float64\n",
            " 4   Sulfate          2495 non-null   float64\n",
            " 5   Conductivity     3276 non-null   float64\n",
            " 6   Organic_carbon   3276 non-null   float64\n",
            " 7   Trihalomethanes  3114 non-null   float64\n",
            " 8   Turbidity        3276 non-null   float64\n",
            " 9   Potability       3276 non-null   int64  \n",
            "dtypes: float64(9), int64(1)\n",
            "memory usage: 256.1 KB\n"
          ]
        }
      ]
    },
    {
      "cell_type": "code",
      "source": [
        "data.isnull()"
      ],
      "metadata": {
        "colab": {
          "base_uri": "https://localhost:8080/",
          "height": 424
        },
        "id": "H4RH8LpLqIqB",
        "outputId": "b8076280-6a8d-4ed9-8550-b1ca74b69677"
      },
      "execution_count": 89,
      "outputs": [
        {
          "output_type": "execute_result",
          "data": {
            "text/plain": [
              "         ph  Hardness  Solids  Chloramines  Sulfate  Conductivity  \\\n",
              "0      True     False   False        False    False         False   \n",
              "1     False     False   False        False     True         False   \n",
              "2     False     False   False        False     True         False   \n",
              "3     False     False   False        False    False         False   \n",
              "4     False     False   False        False    False         False   \n",
              "...     ...       ...     ...          ...      ...           ...   \n",
              "3271  False     False   False        False    False         False   \n",
              "3272  False     False   False        False     True         False   \n",
              "3273  False     False   False        False     True         False   \n",
              "3274  False     False   False        False     True         False   \n",
              "3275  False     False   False        False     True         False   \n",
              "\n",
              "      Organic_carbon  Trihalomethanes  Turbidity  Potability  \n",
              "0              False            False      False       False  \n",
              "1              False            False      False       False  \n",
              "2              False            False      False       False  \n",
              "3              False            False      False       False  \n",
              "4              False            False      False       False  \n",
              "...              ...              ...        ...         ...  \n",
              "3271           False            False      False       False  \n",
              "3272           False             True      False       False  \n",
              "3273           False            False      False       False  \n",
              "3274           False            False      False       False  \n",
              "3275           False            False      False       False  \n",
              "\n",
              "[3276 rows x 10 columns]"
            ],
            "text/html": [
              "\n",
              "  <div id=\"df-b769f568-c5d5-4558-acba-a1046a317819\">\n",
              "    <div class=\"colab-df-container\">\n",
              "      <div>\n",
              "<style scoped>\n",
              "    .dataframe tbody tr th:only-of-type {\n",
              "        vertical-align: middle;\n",
              "    }\n",
              "\n",
              "    .dataframe tbody tr th {\n",
              "        vertical-align: top;\n",
              "    }\n",
              "\n",
              "    .dataframe thead th {\n",
              "        text-align: right;\n",
              "    }\n",
              "</style>\n",
              "<table border=\"1\" class=\"dataframe\">\n",
              "  <thead>\n",
              "    <tr style=\"text-align: right;\">\n",
              "      <th></th>\n",
              "      <th>ph</th>\n",
              "      <th>Hardness</th>\n",
              "      <th>Solids</th>\n",
              "      <th>Chloramines</th>\n",
              "      <th>Sulfate</th>\n",
              "      <th>Conductivity</th>\n",
              "      <th>Organic_carbon</th>\n",
              "      <th>Trihalomethanes</th>\n",
              "      <th>Turbidity</th>\n",
              "      <th>Potability</th>\n",
              "    </tr>\n",
              "  </thead>\n",
              "  <tbody>\n",
              "    <tr>\n",
              "      <th>0</th>\n",
              "      <td>True</td>\n",
              "      <td>False</td>\n",
              "      <td>False</td>\n",
              "      <td>False</td>\n",
              "      <td>False</td>\n",
              "      <td>False</td>\n",
              "      <td>False</td>\n",
              "      <td>False</td>\n",
              "      <td>False</td>\n",
              "      <td>False</td>\n",
              "    </tr>\n",
              "    <tr>\n",
              "      <th>1</th>\n",
              "      <td>False</td>\n",
              "      <td>False</td>\n",
              "      <td>False</td>\n",
              "      <td>False</td>\n",
              "      <td>True</td>\n",
              "      <td>False</td>\n",
              "      <td>False</td>\n",
              "      <td>False</td>\n",
              "      <td>False</td>\n",
              "      <td>False</td>\n",
              "    </tr>\n",
              "    <tr>\n",
              "      <th>2</th>\n",
              "      <td>False</td>\n",
              "      <td>False</td>\n",
              "      <td>False</td>\n",
              "      <td>False</td>\n",
              "      <td>True</td>\n",
              "      <td>False</td>\n",
              "      <td>False</td>\n",
              "      <td>False</td>\n",
              "      <td>False</td>\n",
              "      <td>False</td>\n",
              "    </tr>\n",
              "    <tr>\n",
              "      <th>3</th>\n",
              "      <td>False</td>\n",
              "      <td>False</td>\n",
              "      <td>False</td>\n",
              "      <td>False</td>\n",
              "      <td>False</td>\n",
              "      <td>False</td>\n",
              "      <td>False</td>\n",
              "      <td>False</td>\n",
              "      <td>False</td>\n",
              "      <td>False</td>\n",
              "    </tr>\n",
              "    <tr>\n",
              "      <th>4</th>\n",
              "      <td>False</td>\n",
              "      <td>False</td>\n",
              "      <td>False</td>\n",
              "      <td>False</td>\n",
              "      <td>False</td>\n",
              "      <td>False</td>\n",
              "      <td>False</td>\n",
              "      <td>False</td>\n",
              "      <td>False</td>\n",
              "      <td>False</td>\n",
              "    </tr>\n",
              "    <tr>\n",
              "      <th>...</th>\n",
              "      <td>...</td>\n",
              "      <td>...</td>\n",
              "      <td>...</td>\n",
              "      <td>...</td>\n",
              "      <td>...</td>\n",
              "      <td>...</td>\n",
              "      <td>...</td>\n",
              "      <td>...</td>\n",
              "      <td>...</td>\n",
              "      <td>...</td>\n",
              "    </tr>\n",
              "    <tr>\n",
              "      <th>3271</th>\n",
              "      <td>False</td>\n",
              "      <td>False</td>\n",
              "      <td>False</td>\n",
              "      <td>False</td>\n",
              "      <td>False</td>\n",
              "      <td>False</td>\n",
              "      <td>False</td>\n",
              "      <td>False</td>\n",
              "      <td>False</td>\n",
              "      <td>False</td>\n",
              "    </tr>\n",
              "    <tr>\n",
              "      <th>3272</th>\n",
              "      <td>False</td>\n",
              "      <td>False</td>\n",
              "      <td>False</td>\n",
              "      <td>False</td>\n",
              "      <td>True</td>\n",
              "      <td>False</td>\n",
              "      <td>False</td>\n",
              "      <td>True</td>\n",
              "      <td>False</td>\n",
              "      <td>False</td>\n",
              "    </tr>\n",
              "    <tr>\n",
              "      <th>3273</th>\n",
              "      <td>False</td>\n",
              "      <td>False</td>\n",
              "      <td>False</td>\n",
              "      <td>False</td>\n",
              "      <td>True</td>\n",
              "      <td>False</td>\n",
              "      <td>False</td>\n",
              "      <td>False</td>\n",
              "      <td>False</td>\n",
              "      <td>False</td>\n",
              "    </tr>\n",
              "    <tr>\n",
              "      <th>3274</th>\n",
              "      <td>False</td>\n",
              "      <td>False</td>\n",
              "      <td>False</td>\n",
              "      <td>False</td>\n",
              "      <td>True</td>\n",
              "      <td>False</td>\n",
              "      <td>False</td>\n",
              "      <td>False</td>\n",
              "      <td>False</td>\n",
              "      <td>False</td>\n",
              "    </tr>\n",
              "    <tr>\n",
              "      <th>3275</th>\n",
              "      <td>False</td>\n",
              "      <td>False</td>\n",
              "      <td>False</td>\n",
              "      <td>False</td>\n",
              "      <td>True</td>\n",
              "      <td>False</td>\n",
              "      <td>False</td>\n",
              "      <td>False</td>\n",
              "      <td>False</td>\n",
              "      <td>False</td>\n",
              "    </tr>\n",
              "  </tbody>\n",
              "</table>\n",
              "<p>3276 rows × 10 columns</p>\n",
              "</div>\n",
              "      <button class=\"colab-df-convert\" onclick=\"convertToInteractive('df-b769f568-c5d5-4558-acba-a1046a317819')\"\n",
              "              title=\"Convert this dataframe to an interactive table.\"\n",
              "              style=\"display:none;\">\n",
              "        \n",
              "  <svg xmlns=\"http://www.w3.org/2000/svg\" height=\"24px\"viewBox=\"0 0 24 24\"\n",
              "       width=\"24px\">\n",
              "    <path d=\"M0 0h24v24H0V0z\" fill=\"none\"/>\n",
              "    <path d=\"M18.56 5.44l.94 2.06.94-2.06 2.06-.94-2.06-.94-.94-2.06-.94 2.06-2.06.94zm-11 1L8.5 8.5l.94-2.06 2.06-.94-2.06-.94L8.5 2.5l-.94 2.06-2.06.94zm10 10l.94 2.06.94-2.06 2.06-.94-2.06-.94-.94-2.06-.94 2.06-2.06.94z\"/><path d=\"M17.41 7.96l-1.37-1.37c-.4-.4-.92-.59-1.43-.59-.52 0-1.04.2-1.43.59L10.3 9.45l-7.72 7.72c-.78.78-.78 2.05 0 2.83L4 21.41c.39.39.9.59 1.41.59.51 0 1.02-.2 1.41-.59l7.78-7.78 2.81-2.81c.8-.78.8-2.07 0-2.86zM5.41 20L4 18.59l7.72-7.72 1.47 1.35L5.41 20z\"/>\n",
              "  </svg>\n",
              "      </button>\n",
              "      \n",
              "  <style>\n",
              "    .colab-df-container {\n",
              "      display:flex;\n",
              "      flex-wrap:wrap;\n",
              "      gap: 12px;\n",
              "    }\n",
              "\n",
              "    .colab-df-convert {\n",
              "      background-color: #E8F0FE;\n",
              "      border: none;\n",
              "      border-radius: 50%;\n",
              "      cursor: pointer;\n",
              "      display: none;\n",
              "      fill: #1967D2;\n",
              "      height: 32px;\n",
              "      padding: 0 0 0 0;\n",
              "      width: 32px;\n",
              "    }\n",
              "\n",
              "    .colab-df-convert:hover {\n",
              "      background-color: #E2EBFA;\n",
              "      box-shadow: 0px 1px 2px rgba(60, 64, 67, 0.3), 0px 1px 3px 1px rgba(60, 64, 67, 0.15);\n",
              "      fill: #174EA6;\n",
              "    }\n",
              "\n",
              "    [theme=dark] .colab-df-convert {\n",
              "      background-color: #3B4455;\n",
              "      fill: #D2E3FC;\n",
              "    }\n",
              "\n",
              "    [theme=dark] .colab-df-convert:hover {\n",
              "      background-color: #434B5C;\n",
              "      box-shadow: 0px 1px 3px 1px rgba(0, 0, 0, 0.15);\n",
              "      filter: drop-shadow(0px 1px 2px rgba(0, 0, 0, 0.3));\n",
              "      fill: #FFFFFF;\n",
              "    }\n",
              "  </style>\n",
              "\n",
              "      <script>\n",
              "        const buttonEl =\n",
              "          document.querySelector('#df-b769f568-c5d5-4558-acba-a1046a317819 button.colab-df-convert');\n",
              "        buttonEl.style.display =\n",
              "          google.colab.kernel.accessAllowed ? 'block' : 'none';\n",
              "\n",
              "        async function convertToInteractive(key) {\n",
              "          const element = document.querySelector('#df-b769f568-c5d5-4558-acba-a1046a317819');\n",
              "          const dataTable =\n",
              "            await google.colab.kernel.invokeFunction('convertToInteractive',\n",
              "                                                     [key], {});\n",
              "          if (!dataTable) return;\n",
              "\n",
              "          const docLinkHtml = 'Like what you see? Visit the ' +\n",
              "            '<a target=\"_blank\" href=https://colab.research.google.com/notebooks/data_table.ipynb>data table notebook</a>'\n",
              "            + ' to learn more about interactive tables.';\n",
              "          element.innerHTML = '';\n",
              "          dataTable['output_type'] = 'display_data';\n",
              "          await google.colab.output.renderOutput(dataTable, element);\n",
              "          const docLink = document.createElement('div');\n",
              "          docLink.innerHTML = docLinkHtml;\n",
              "          element.appendChild(docLink);\n",
              "        }\n",
              "      </script>\n",
              "    </div>\n",
              "  </div>\n",
              "  "
            ]
          },
          "metadata": {},
          "execution_count": 89
        }
      ]
    },
    {
      "cell_type": "markdown",
      "source": [
        "Since it shows true, this implies there are Nan or NULL values in our dataset"
      ],
      "metadata": {
        "id": "HCCI1YORGoQ6"
      }
    },
    {
      "cell_type": "code",
      "source": [
        "data.isnull().sum()"
      ],
      "metadata": {
        "colab": {
          "base_uri": "https://localhost:8080/"
        },
        "id": "IvGlIIgxqZae",
        "outputId": "6e6a0bb9-9f15-49de-90b1-25df80ced0a8"
      },
      "execution_count": 90,
      "outputs": [
        {
          "output_type": "execute_result",
          "data": {
            "text/plain": [
              "ph                 491\n",
              "Hardness             0\n",
              "Solids               0\n",
              "Chloramines          0\n",
              "Sulfate            781\n",
              "Conductivity         0\n",
              "Organic_carbon       0\n",
              "Trihalomethanes    162\n",
              "Turbidity            0\n",
              "Potability           0\n",
              "dtype: int64"
            ]
          },
          "metadata": {},
          "execution_count": 90
        }
      ]
    },
    {
      "cell_type": "code",
      "source": [
        "# total null values =\n",
        "\n",
        "data.isnull().sum().sum()"
      ],
      "metadata": {
        "colab": {
          "base_uri": "https://localhost:8080/"
        },
        "id": "kfD8GPeytRo0",
        "outputId": "005e3bf0-0359-4dab-b47a-53971fe412ca"
      },
      "execution_count": 91,
      "outputs": [
        {
          "output_type": "execute_result",
          "data": {
            "text/plain": [
              "1434"
            ]
          },
          "metadata": {},
          "execution_count": 91
        }
      ]
    },
    {
      "cell_type": "code",
      "source": [
        "data.isnull().sum().plot.bar(figsize=(10,6))\n",
        "plt.ylabel('Percentage of missing values') \n",
        "plt.xlabel('Features') \n",
        "plt.title('Missing Data in Percentages');"
      ],
      "metadata": {
        "colab": {
          "base_uri": "https://localhost:8080/",
          "height": 477
        },
        "id": "JWVN1-8iUiwj",
        "outputId": "8cf769db-1628-4c17-cdf5-d48d5bfc25e2"
      },
      "execution_count": 92,
      "outputs": [
        {
          "output_type": "display_data",
          "data": {
            "text/plain": [
              "<Figure size 720x432 with 1 Axes>"
            ],
            "image/png": "[encoded data removed]"
          },
          "metadata": {
            "needs_background": "light"
          }
        }
      ]
    },
    {
      "cell_type": "markdown",
      "source": [
        "Filling the Nan values with the respective mean"
      ],
      "metadata": {
        "id": "e23VupsvGspZ"
      }
    },
    {
      "cell_type": "code",
      "source": [
        "data = data.fillna(data.mean(),)"
      ],
      "metadata": {
        "id": "1MYJifZ3tq-z"
      },
      "execution_count": 93,
      "outputs": []
    },
    {
      "cell_type": "code",
      "source": [
        "# Now checking for the Nan values"
      ],
      "metadata": {
        "id": "0wsP4POxtwrk"
      },
      "execution_count": 94,
      "outputs": []
    },
    {
      "cell_type": "code",
      "source": [
        "data.isnull().sum()"
      ],
      "metadata": {
        "colab": {
          "base_uri": "https://localhost:8080/"
        },
        "id": "rMWeP8fxt11E",
        "outputId": "f0079760-393d-4a57-87da-d9cfdf4a0c6b"
      },
      "execution_count": 95,
      "outputs": [
        {
          "output_type": "execute_result",
          "data": {
            "text/plain": [
              "ph                 0\n",
              "Hardness           0\n",
              "Solids             0\n",
              "Chloramines        0\n",
              "Sulfate            0\n",
              "Conductivity       0\n",
              "Organic_carbon     0\n",
              "Trihalomethanes    0\n",
              "Turbidity          0\n",
              "Potability         0\n",
              "dtype: int64"
            ]
          },
          "metadata": {},
          "execution_count": 95
        }
      ]
    },
    {
      "cell_type": "code",
      "source": [
        "data.isnull().sum().sum()"
      ],
      "metadata": {
        "colab": {
          "base_uri": "https://localhost:8080/"
        },
        "id": "uilXuZdauPoY",
        "outputId": "27e3a49f-c357-4ac2-d202-495feb441895"
      },
      "execution_count": 96,
      "outputs": [
        {
          "output_type": "execute_result",
          "data": {
            "text/plain": [
              "0"
            ]
          },
          "metadata": {},
          "execution_count": 96
        }
      ]
    },
    {
      "cell_type": "code",
      "source": [
        "data"
      ],
      "metadata": {
        "colab": {
          "base_uri": "https://localhost:8080/",
          "height": 424
        },
        "id": "d1oGEV2tt56H",
        "outputId": "9fadbf50-709c-4595-9642-b2cc3b24daf5"
      },
      "execution_count": 97,
      "outputs": [
        {
          "output_type": "execute_result",
          "data": {
            "text/plain": [
              "            ph    Hardness        Solids  Chloramines     Sulfate  \\\n",
              "0     7.080795  204.890455  20791.318981     7.300212  368.516441   \n",
              "1     3.716080  129.422921  18630.057858     6.635246  333.775777   \n",
              "2     8.099124  224.236259  19909.541732     9.275884  333.775777   \n",
              "3     8.316766  214.373394  22018.417441     8.059332  356.886136   \n",
              "4     9.092223  181.101509  17978.986339     6.546600  310.135738   \n",
              "...        ...         ...           ...          ...         ...   \n",
              "3271  4.668102  193.681735  47580.991603     7.166639  359.948574   \n",
              "3272  7.808856  193.553212  17329.802160     8.061362  333.775777   \n",
              "3273  9.419510  175.762646  33155.578218     7.350233  333.775777   \n",
              "3274  5.126763  230.603758  11983.869376     6.303357  333.775777   \n",
              "3275  7.874671  195.102299  17404.177061     7.509306  333.775777   \n",
              "\n",
              "      Conductivity  Organic_carbon  Trihalomethanes  Turbidity  Potability  \n",
              "0       564.308654       10.379783        86.990970   2.963135           0  \n",
              "1       592.885359       15.180013        56.329076   4.500656           0  \n",
              "2       418.606213       16.868637        66.420093   3.055934           0  \n",
              "3       363.266516       18.436524       100.341674   4.628771           0  \n",
              "4       398.410813       11.558279        31.997993   4.075075           0  \n",
              "...            ...             ...              ...        ...         ...  \n",
              "3271    526.424171       13.894419        66.687695   4.435821           1  \n",
              "3272    392.449580       19.903225        66.396293   2.798243           1  \n",
              "3273    432.044783       11.039070        69.845400   3.298875           1  \n",
              "3274    402.883113       11.168946        77.488213   4.708658           1  \n",
              "3275    327.459760       16.140368        78.698446   2.309149           1  \n",
              "\n",
              "[3276 rows x 10 columns]"
            ],
            "text/html": [
              "\n",
              "  <div id=\"df-476efce8-3931-402a-b351-ea9020d5d7b3\">\n",
              "    <div class=\"colab-df-container\">\n",
              "      <div>\n",
              "<style scoped>\n",
              "    .dataframe tbody tr th:only-of-type {\n",
              "        vertical-align: middle;\n",
              "    }\n",
              "\n",
              "    .dataframe tbody tr th {\n",
              "        vertical-align: top;\n",
              "    }\n",
              "\n",
              "    .dataframe thead th {\n",
              "        text-align: right;\n",
              "    }\n",
              "</style>\n",
              "<table border=\"1\" class=\"dataframe\">\n",
              "  <thead>\n",
              "    <tr style=\"text-align: right;\">\n",
              "      <th></th>\n",
              "      <th>ph</th>\n",
              "      <th>Hardness</th>\n",
              "      <th>Solids</th>\n",
              "      <th>Chloramines</th>\n",
              "      <th>Sulfate</th>\n",
              "      <th>Conductivity</th>\n",
              "      <th>Organic_carbon</th>\n",
              "      <th>Trihalomethanes</th>\n",
              "      <th>Turbidity</th>\n",
              "      <th>Potability</th>\n",
              "    </tr>\n",
              "  </thead>\n",
              "  <tbody>\n",
              "    <tr>\n",
              "      <th>0</th>\n",
              "      <td>7.080795</td>\n",
              "      <td>204.890455</td>\n",
              "      <td>20791.318981</td>\n",
              "      <td>7.300212</td>\n",
              "      <td>368.516441</td>\n",
              "      <td>564.308654</td>\n",
              "      <td>10.379783</td>\n",
              "      <td>86.990970</td>\n",
              "      <td>2.963135</td>\n",
              "      <td>0</td>\n",
              "    </tr>\n",
              "    <tr>\n",
              "      <th>1</th>\n",
              "      <td>3.716080</td>\n",
              "      <td>129.422921</td>\n",
              "      <td>18630.057858</td>\n",
              "      <td>6.635246</td>\n",
              "      <td>333.775777</td>\n",
              "      <td>592.885359</td>\n",
              "      <td>15.180013</td>\n",
              "      <td>56.329076</td>\n",
              "      <td>4.500656</td>\n",
              "      <td>0</td>\n",
              "    </tr>\n",
              "    <tr>\n",
              "      <th>2</th>\n",
              "      <td>8.099124</td>\n",
              "      <td>224.236259</td>\n",
              "      <td>19909.541732</td>\n",
              "      <td>9.275884</td>\n",
              "      <td>333.775777</td>\n",
              "      <td>418.606213</td>\n",
              "      <td>16.868637</td>\n",
              "      <td>66.420093</td>\n",
              "      <td>3.055934</td>\n",
              "      <td>0</td>\n",
              "    </tr>\n",
              "    <tr>\n",
              "      <th>3</th>\n",
              "      <td>8.316766</td>\n",
              "      <td>214.373394</td>\n",
              "      <td>22018.417441</td>\n",
              "      <td>8.059332</td>\n",
              "      <td>356.886136</td>\n",
              "      <td>363.266516</td>\n",
              "      <td>18.436524</td>\n",
              "      <td>100.341674</td>\n",
              "      <td>4.628771</td>\n",
              "      <td>0</td>\n",
              "    </tr>\n",
              "    <tr>\n",
              "      <th>4</th>\n",
              "      <td>9.092223</td>\n",
              "      <td>181.101509</td>\n",
              "      <td>17978.986339</td>\n",
              "      <td>6.546600</td>\n",
              "      <td>310.135738</td>\n",
              "      <td>398.410813</td>\n",
              "      <td>11.558279</td>\n",
              "      <td>31.997993</td>\n",
              "      <td>4.075075</td>\n",
              "      <td>0</td>\n",
              "    </tr>\n",
              "    <tr>\n",
              "      <th>...</th>\n",
              "      <td>...</td>\n",
              "      <td>...</td>\n",
              "      <td>...</td>\n",
              "      <td>...</td>\n",
              "      <td>...</td>\n",
              "      <td>...</td>\n",
              "      <td>...</td>\n",
              "      <td>...</td>\n",
              "      <td>...</td>\n",
              "      <td>...</td>\n",
              "    </tr>\n",
              "    <tr>\n",
              "      <th>3271</th>\n",
              "      <td>4.668102</td>\n",
              "      <td>193.681735</td>\n",
              "      <td>47580.991603</td>\n",
              "      <td>7.166639</td>\n",
              "      <td>359.948574</td>\n",
              "      <td>526.424171</td>\n",
              "      <td>13.894419</td>\n",
              "      <td>66.687695</td>\n",
              "      <td>4.435821</td>\n",
              "      <td>1</td>\n",
              "    </tr>\n",
              "    <tr>\n",
              "      <th>3272</th>\n",
              "      <td>7.808856</td>\n",
              "      <td>193.553212</td>\n",
              "      <td>17329.802160</td>\n",
              "      <td>8.061362</td>\n",
              "      <td>333.775777</td>\n",
              "      <td>392.449580</td>\n",
              "      <td>19.903225</td>\n",
              "      <td>66.396293</td>\n",
              "      <td>2.798243</td>\n",
              "      <td>1</td>\n",
              "    </tr>\n",
              "    <tr>\n",
              "      <th>3273</th>\n",
              "      <td>9.419510</td>\n",
              "      <td>175.762646</td>\n",
              "      <td>33155.578218</td>\n",
              "      <td>7.350233</td>\n",
              "      <td>333.775777</td>\n",
              "      <td>432.044783</td>\n",
              "      <td>11.039070</td>\n",
              "      <td>69.845400</td>\n",
              "      <td>3.298875</td>\n",
              "      <td>1</td>\n",
              "    </tr>\n",
              "    <tr>\n",
              "      <th>3274</th>\n",
              "      <td>5.126763</td>\n",
              "      <td>230.603758</td>\n",
              "      <td>11983.869376</td>\n",
              "      <td>6.303357</td>\n",
              "      <td>333.775777</td>\n",
              "      <td>402.883113</td>\n",
              "      <td>11.168946</td>\n",
              "      <td>77.488213</td>\n",
              "      <td>4.708658</td>\n",
              "      <td>1</td>\n",
              "    </tr>\n",
              "    <tr>\n",
              "      <th>3275</th>\n",
              "      <td>7.874671</td>\n",
              "      <td>195.102299</td>\n",
              "      <td>17404.177061</td>\n",
              "      <td>7.509306</td>\n",
              "      <td>333.775777</td>\n",
              "      <td>327.459760</td>\n",
              "      <td>16.140368</td>\n",
              "      <td>78.698446</td>\n",
              "      <td>2.309149</td>\n",
              "      <td>1</td>\n",
              "    </tr>\n",
              "  </tbody>\n",
              "</table>\n",
              "<p>3276 rows × 10 columns</p>\n",
              "</div>\n",
              "      <button class=\"colab-df-convert\" onclick=\"convertToInteractive('df-476efce8-3931-402a-b351-ea9020d5d7b3')\"\n",
              "              title=\"Convert this dataframe to an interactive table.\"\n",
              "              style=\"display:none;\">\n",
              "        \n",
              "  <svg xmlns=\"http://www.w3.org/2000/svg\" height=\"24px\"viewBox=\"0 0 24 24\"\n",
              "       width=\"24px\">\n",
              "    <path d=\"M0 0h24v24H0V0z\" fill=\"none\"/>\n",
              "    <path d=\"M18.56 5.44l.94 2.06.94-2.06 2.06-.94-2.06-.94-.94-2.06-.94 2.06-2.06.94zm-11 1L8.5 8.5l.94-2.06 2.06-.94-2.06-.94L8.5 2.5l-.94 2.06-2.06.94zm10 10l.94 2.06.94-2.06 2.06-.94-2.06-.94-.94-2.06-.94 2.06-2.06.94z\"/><path d=\"M17.41 7.96l-1.37-1.37c-.4-.4-.92-.59-1.43-.59-.52 0-1.04.2-1.43.59L10.3 9.45l-7.72 7.72c-.78.78-.78 2.05 0 2.83L4 21.41c.39.39.9.59 1.41.59.51 0 1.02-.2 1.41-.59l7.78-7.78 2.81-2.81c.8-.78.8-2.07 0-2.86zM5.41 20L4 18.59l7.72-7.72 1.47 1.35L5.41 20z\"/>\n",
              "  </svg>\n",
              "      </button>\n",
              "      \n",
              "  <style>\n",
              "    .colab-df-container {\n",
              "      display:flex;\n",
              "      flex-wrap:wrap;\n",
              "      gap: 12px;\n",
              "    }\n",
              "\n",
              "    .colab-df-convert {\n",
              "      background-color: #E8F0FE;\n",
              "      border: none;\n",
              "      border-radius: 50%;\n",
              "      cursor: pointer;\n",
              "      display: none;\n",
              "      fill: #1967D2;\n",
              "      height: 32px;\n",
              "      padding: 0 0 0 0;\n",
              "      width: 32px;\n",
              "    }\n",
              "\n",
              "    .colab-df-convert:hover {\n",
              "      background-color: #E2EBFA;\n",
              "      box-shadow: 0px 1px 2px rgba(60, 64, 67, 0.3), 0px 1px 3px 1px rgba(60, 64, 67, 0.15);\n",
              "      fill: #174EA6;\n",
              "    }\n",
              "\n",
              "    [theme=dark] .colab-df-convert {\n",
              "      background-color: #3B4455;\n",
              "      fill: #D2E3FC;\n",
              "    }\n",
              "\n",
              "    [theme=dark] .colab-df-convert:hover {\n",
              "      background-color: #434B5C;\n",
              "      box-shadow: 0px 1px 3px 1px rgba(0, 0, 0, 0.15);\n",
              "      filter: drop-shadow(0px 1px 2px rgba(0, 0, 0, 0.3));\n",
              "      fill: #FFFFFF;\n",
              "    }\n",
              "  </style>\n",
              "\n",
              "      <script>\n",
              "        const buttonEl =\n",
              "          document.querySelector('#df-476efce8-3931-402a-b351-ea9020d5d7b3 button.colab-df-convert');\n",
              "        buttonEl.style.display =\n",
              "          google.colab.kernel.accessAllowed ? 'block' : 'none';\n",
              "\n",
              "        async function convertToInteractive(key) {\n",
              "          const element = document.querySelector('#df-476efce8-3931-402a-b351-ea9020d5d7b3');\n",
              "          const dataTable =\n",
              "            await google.colab.kernel.invokeFunction('convertToInteractive',\n",
              "                                                     [key], {});\n",
              "          if (!dataTable) return;\n",
              "\n",
              "          const docLinkHtml = 'Like what you see? Visit the ' +\n",
              "            '<a target=\"_blank\" href=https://colab.research.google.com/notebooks/data_table.ipynb>data table notebook</a>'\n",
              "            + ' to learn more about interactive tables.';\n",
              "          element.innerHTML = '';\n",
              "          dataTable['output_type'] = 'display_data';\n",
              "          await google.colab.output.renderOutput(dataTable, element);\n",
              "          const docLink = document.createElement('div');\n",
              "          docLink.innerHTML = docLinkHtml;\n",
              "          element.appendChild(docLink);\n",
              "        }\n",
              "      </script>\n",
              "    </div>\n",
              "  </div>\n",
              "  "
            ]
          },
          "metadata": {},
          "execution_count": 97
        }
      ]
    },
    {
      "cell_type": "code",
      "source": [
        "data.info()"
      ],
      "metadata": {
        "colab": {
          "base_uri": "https://localhost:8080/"
        },
        "id": "FNmWIIvkuHAe",
        "outputId": "dec601c9-5a83-4c40-ecdc-7cf8749415ff"
      },
      "execution_count": 98,
      "outputs": [
        {
          "output_type": "stream",
          "name": "stdout",
          "text": [
            "<class 'pandas.core.frame.DataFrame'>\n",
            "RangeIndex: 3276 entries, 0 to 3275\n",
            "Data columns (total 10 columns):\n",
            " #   Column           Non-Null Count  Dtype  \n",
            "---  ------           --------------  -----  \n",
            " 0   ph               3276 non-null   float64\n",
            " 1   Hardness         3276 non-null   float64\n",
            " 2   Solids           3276 non-null   float64\n",
            " 3   Chloramines      3276 non-null   float64\n",
            " 4   Sulfate          3276 non-null   float64\n",
            " 5   Conductivity     3276 non-null   float64\n",
            " 6   Organic_carbon   3276 non-null   float64\n",
            " 7   Trihalomethanes  3276 non-null   float64\n",
            " 8   Turbidity        3276 non-null   float64\n",
            " 9   Potability       3276 non-null   int64  \n",
            "dtypes: float64(9), int64(1)\n",
            "memory usage: 256.1 KB\n"
          ]
        }
      ]
    },
    {
      "cell_type": "code",
      "source": [
        "data.isnull().mean().plot.bar(figsize=(10,6)) \n",
        "plt.ylabel('Percentage of missing values') \n",
        "plt.xlabel('Features') \n",
        "plt.title('Missing Data in Percentages');"
      ],
      "metadata": {
        "colab": {
          "base_uri": "https://localhost:8080/",
          "height": 477
        },
        "id": "rmSjKOUBVLjJ",
        "outputId": "b3b373ec-b960-4450-96f1-aa5bb14730a8"
      },
      "execution_count": 206,
      "outputs": [
        {
          "output_type": "display_data",
          "data": {
            "text/plain": [
              "<Figure size 720x432 with 1 Axes>"
            ],
            "image/png": "[encoded data removed]"
          },
          "metadata": {
            "needs_background": "light"
          }
        }
      ]
    },
    {
      "cell_type": "markdown",
      "source": [
        "Now we have cleaned the dataset means we have cleaned all the Nan values"
      ],
      "metadata": {
        "id": "KC61kC4DGxCG"
      }
    },
    {
      "cell_type": "code",
      "source": [
        "data.describe()"
      ],
      "metadata": {
        "colab": {
          "base_uri": "https://localhost:8080/",
          "height": 300
        },
        "id": "OYmRFUQv0NC3",
        "outputId": "fa80f1f3-c9a4-4b92-b449-f2fc1f46b74d"
      },
      "execution_count": 99,
      "outputs": [
        {
          "output_type": "execute_result",
          "data": {
            "text/plain": [
              "                ph     Hardness        Solids  Chloramines      Sulfate  \\\n",
              "count  3276.000000  3276.000000   3276.000000  3276.000000  3276.000000   \n",
              "mean      7.080795   196.369496  22014.092526     7.122277   333.775777   \n",
              "std       1.469956    32.879761   8768.570828     1.583085    36.142612   \n",
              "min       0.000000    47.432000    320.942611     0.352000   129.000000   \n",
              "25%       6.277673   176.850538  15666.690297     6.127421   317.094638   \n",
              "50%       7.080795   196.967627  20927.833607     7.130299   333.775777   \n",
              "75%       7.870050   216.667456  27332.762127     8.114887   350.385756   \n",
              "max      14.000000   323.124000  61227.196008    13.127000   481.030642   \n",
              "\n",
              "       Conductivity  Organic_carbon  Trihalomethanes    Turbidity   Potability  \n",
              "count   3276.000000     3276.000000      3276.000000  3276.000000  3276.000000  \n",
              "mean     426.205111       14.284970        66.396293     3.966786     0.390110  \n",
              "std       80.824064        3.308162        15.769881     0.780382     0.487849  \n",
              "min      181.483754        2.200000         0.738000     1.450000     0.000000  \n",
              "25%      365.734414       12.065801        56.647656     3.439711     0.000000  \n",
              "50%      421.884968       14.218338        66.396293     3.955028     0.000000  \n",
              "75%      481.792304       16.557652        76.666609     4.500320     1.000000  \n",
              "max      753.342620       28.300000       124.000000     6.739000     1.000000  "
            ],
            "text/html": [
              "\n",
              "  <div id=\"df-41edcc76-e85f-4ea8-82a3-ead4480040ee\">\n",
              "    <div class=\"colab-df-container\">\n",
              "      <div>\n",
              "<style scoped>\n",
              "    .dataframe tbody tr th:only-of-type {\n",
              "        vertical-align: middle;\n",
              "    }\n",
              "\n",
              "    .dataframe tbody tr th {\n",
              "        vertical-align: top;\n",
              "    }\n",
              "\n",
              "    .dataframe thead th {\n",
              "        text-align: right;\n",
              "    }\n",
              "</style>\n",
              "<table border=\"1\" class=\"dataframe\">\n",
              "  <thead>\n",
              "    <tr style=\"text-align: right;\">\n",
              "      <th></th>\n",
              "      <th>ph</th>\n",
              "      <th>Hardness</th>\n",
              "      <th>Solids</th>\n",
              "      <th>Chloramines</th>\n",
              "      <th>Sulfate</th>\n",
              "      <th>Conductivity</th>\n",
              "      <th>Organic_carbon</th>\n",
              "      <th>Trihalomethanes</th>\n",
              "      <th>Turbidity</th>\n",
              "      <th>Potability</th>\n",
              "    </tr>\n",
              "  </thead>\n",
              "  <tbody>\n",
              "    <tr>\n",
              "      <th>count</th>\n",
              "      <td>3276.000000</td>\n",
              "      <td>3276.000000</td>\n",
              "      <td>3276.000000</td>\n",
              "      <td>3276.000000</td>\n",
              "      <td>3276.000000</td>\n",
              "      <td>3276.000000</td>\n",
              "      <td>3276.000000</td>\n",
              "      <td>3276.000000</td>\n",
              "      <td>3276.000000</td>\n",
              "      <td>3276.000000</td>\n",
              "    </tr>\n",
              "    <tr>\n",
              "      <th>mean</th>\n",
              "      <td>7.080795</td>\n",
              "      <td>196.369496</td>\n",
              "      <td>22014.092526</td>\n",
              "      <td>7.122277</td>\n",
              "      <td>333.775777</td>\n",
              "      <td>426.205111</td>\n",
              "      <td>14.284970</td>\n",
              "      <td>66.396293</td>\n",
              "      <td>3.966786</td>\n",
              "      <td>0.390110</td>\n",
              "    </tr>\n",
              "    <tr>\n",
              "      <th>std</th>\n",
              "      <td>1.469956</td>\n",
              "      <td>32.879761</td>\n",
              "      <td>8768.570828</td>\n",
              "      <td>1.583085</td>\n",
              "      <td>36.142612</td>\n",
              "      <td>80.824064</td>\n",
              "      <td>3.308162</td>\n",
              "      <td>15.769881</td>\n",
              "      <td>0.780382</td>\n",
              "      <td>0.487849</td>\n",
              "    </tr>\n",
              "    <tr>\n",
              "      <th>min</th>\n",
              "      <td>0.000000</td>\n",
              "      <td>47.432000</td>\n",
              "      <td>320.942611</td>\n",
              "      <td>0.352000</td>\n",
              "      <td>129.000000</td>\n",
              "      <td>181.483754</td>\n",
              "      <td>2.200000</td>\n",
              "      <td>0.738000</td>\n",
              "      <td>1.450000</td>\n",
              "      <td>0.000000</td>\n",
              "    </tr>\n",
              "    <tr>\n",
              "      <th>25%</th>\n",
              "      <td>6.277673</td>\n",
              "      <td>176.850538</td>\n",
              "      <td>15666.690297</td>\n",
              "      <td>6.127421</td>\n",
              "      <td>317.094638</td>\n",
              "      <td>365.734414</td>\n",
              "      <td>12.065801</td>\n",
              "      <td>56.647656</td>\n",
              "      <td>3.439711</td>\n",
              "      <td>0.000000</td>\n",
              "    </tr>\n",
              "    <tr>\n",
              "      <th>50%</th>\n",
              "      <td>7.080795</td>\n",
              "      <td>196.967627</td>\n",
              "      <td>20927.833607</td>\n",
              "      <td>7.130299</td>\n",
              "      <td>333.775777</td>\n",
              "      <td>421.884968</td>\n",
              "      <td>14.218338</td>\n",
              "      <td>66.396293</td>\n",
              "      <td>3.955028</td>\n",
              "      <td>0.000000</td>\n",
              "    </tr>\n",
              "    <tr>\n",
              "      <th>75%</th>\n",
              "      <td>7.870050</td>\n",
              "      <td>216.667456</td>\n",
              "      <td>27332.762127</td>\n",
              "      <td>8.114887</td>\n",
              "      <td>350.385756</td>\n",
              "      <td>481.792304</td>\n",
              "      <td>16.557652</td>\n",
              "      <td>76.666609</td>\n",
              "      <td>4.500320</td>\n",
              "      <td>1.000000</td>\n",
              "    </tr>\n",
              "    <tr>\n",
              "      <th>max</th>\n",
              "      <td>14.000000</td>\n",
              "      <td>323.124000</td>\n",
              "      <td>61227.196008</td>\n",
              "      <td>13.127000</td>\n",
              "      <td>481.030642</td>\n",
              "      <td>753.342620</td>\n",
              "      <td>28.300000</td>\n",
              "      <td>124.000000</td>\n",
              "      <td>6.739000</td>\n",
              "      <td>1.000000</td>\n",
              "    </tr>\n",
              "  </tbody>\n",
              "</table>\n",
              "</div>\n",
              "      <button class=\"colab-df-convert\" onclick=\"convertToInteractive('df-41edcc76-e85f-4ea8-82a3-ead4480040ee')\"\n",
              "              title=\"Convert this dataframe to an interactive table.\"\n",
              "              style=\"display:none;\">\n",
              "        \n",
              "  <svg xmlns=\"http://www.w3.org/2000/svg\" height=\"24px\"viewBox=\"0 0 24 24\"\n",
              "       width=\"24px\">\n",
              "    <path d=\"M0 0h24v24H0V0z\" fill=\"none\"/>\n",
              "    <path d=\"M18.56 5.44l.94 2.06.94-2.06 2.06-.94-2.06-.94-.94-2.06-.94 2.06-2.06.94zm-11 1L8.5 8.5l.94-2.06 2.06-.94-2.06-.94L8.5 2.5l-.94 2.06-2.06.94zm10 10l.94 2.06.94-2.06 2.06-.94-2.06-.94-.94-2.06-.94 2.06-2.06.94z\"/><path d=\"M17.41 7.96l-1.37-1.37c-.4-.4-.92-.59-1.43-.59-.52 0-1.04.2-1.43.59L10.3 9.45l-7.72 7.72c-.78.78-.78 2.05 0 2.83L4 21.41c.39.39.9.59 1.41.59.51 0 1.02-.2 1.41-.59l7.78-7.78 2.81-2.81c.8-.78.8-2.07 0-2.86zM5.41 20L4 18.59l7.72-7.72 1.47 1.35L5.41 20z\"/>\n",
              "  </svg>\n",
              "      </button>\n",
              "      \n",
              "  <style>\n",
              "    .colab-df-container {\n",
              "      display:flex;\n",
              "      flex-wrap:wrap;\n",
              "      gap: 12px;\n",
              "    }\n",
              "\n",
              "    .colab-df-convert {\n",
              "      background-color: #E8F0FE;\n",
              "      border: none;\n",
              "      border-radius: 50%;\n",
              "      cursor: pointer;\n",
              "      display: none;\n",
              "      fill: #1967D2;\n",
              "      height: 32px;\n",
              "      padding: 0 0 0 0;\n",
              "      width: 32px;\n",
              "    }\n",
              "\n",
              "    .colab-df-convert:hover {\n",
              "      background-color: #E2EBFA;\n",
              "      box-shadow: 0px 1px 2px rgba(60, 64, 67, 0.3), 0px 1px 3px 1px rgba(60, 64, 67, 0.15);\n",
              "      fill: #174EA6;\n",
              "    }\n",
              "\n",
              "    [theme=dark] .colab-df-convert {\n",
              "      background-color: #3B4455;\n",
              "      fill: #D2E3FC;\n",
              "    }\n",
              "\n",
              "    [theme=dark] .colab-df-convert:hover {\n",
              "      background-color: #434B5C;\n",
              "      box-shadow: 0px 1px 3px 1px rgba(0, 0, 0, 0.15);\n",
              "      filter: drop-shadow(0px 1px 2px rgba(0, 0, 0, 0.3));\n",
              "      fill: #FFFFFF;\n",
              "    }\n",
              "  </style>\n",
              "\n",
              "      <script>\n",
              "        const buttonEl =\n",
              "          document.querySelector('#df-41edcc76-e85f-4ea8-82a3-ead4480040ee button.colab-df-convert');\n",
              "        buttonEl.style.display =\n",
              "          google.colab.kernel.accessAllowed ? 'block' : 'none';\n",
              "\n",
              "        async function convertToInteractive(key) {\n",
              "          const element = document.querySelector('#df-41edcc76-e85f-4ea8-82a3-ead4480040ee');\n",
              "          const dataTable =\n",
              "            await google.colab.kernel.invokeFunction('convertToInteractive',\n",
              "                                                     [key], {});\n",
              "          if (!dataTable) return;\n",
              "\n",
              "          const docLinkHtml = 'Like what you see? Visit the ' +\n",
              "            '<a target=\"_blank\" href=https://colab.research.google.com/notebooks/data_table.ipynb>data table notebook</a>'\n",
              "            + ' to learn more about interactive tables.';\n",
              "          element.innerHTML = '';\n",
              "          dataTable['output_type'] = 'display_data';\n",
              "          await google.colab.output.renderOutput(dataTable, element);\n",
              "          const docLink = document.createElement('div');\n",
              "          docLink.innerHTML = docLinkHtml;\n",
              "          element.appendChild(docLink);\n",
              "        }\n",
              "      </script>\n",
              "    </div>\n",
              "  </div>\n",
              "  "
            ]
          },
          "metadata": {},
          "execution_count": 99
        }
      ]
    },
    {
      "cell_type": "code",
      "source": [],
      "metadata": {
        "id": "rG5_YpAaC3pG"
      },
      "execution_count": 99,
      "outputs": []
    },
    {
      "cell_type": "code",
      "source": [
        "# EDA -> Exploratory Data Analysis"
      ],
      "metadata": {
        "id": "pqrtBTz9CQqo"
      },
      "execution_count": 100,
      "outputs": []
    },
    {
      "cell_type": "markdown",
      "source": [
        "Checking if we need dimensionality reduction"
      ],
      "metadata": {
        "id": "fGobnrO2G2gW"
      }
    },
    {
      "cell_type": "markdown",
      "source": [
        "# Heatmap"
      ],
      "metadata": {
        "id": "7ZLchU7kE6vK"
      }
    },
    {
      "cell_type": "markdown",
      "source": [
        "A Heat map is a graphical representation of multivariate data that is structured as a matrix of columns and rows.\n",
        "\n",
        "Heat maps are very useful in describing correlation among several numerical variables, visualizing patterns and anomalies"
      ],
      "metadata": {
        "id": "kk4mSGMkDUK9"
      }
    },
    {
      "cell_type": "code",
      "source": [
        "sns.heatmap(data.corr(),annot=True,cmap='terrain')\n",
        "fig = plt.gcf()\n",
        "fig.set_size_inches(11,8)\n",
        "plt.show()"
      ],
      "metadata": {
        "colab": {
          "base_uri": "https://localhost:8080/",
          "height": 560
        },
        "id": "gajNiUQRC-lj",
        "outputId": "2b617111-c82d-41c0-cf2c-67cb06d3cfb2"
      },
      "execution_count": 101,
      "outputs": [
        {
          "output_type": "display_data",
          "data": {
            "text/plain": [
              "<Figure size 792x576 with 2 Axes>"
            ],
            "image/png": "[encoded data removed]"
          },
          "metadata": {
            "needs_background": "light"
          }
        }
      ]
    },
    {
      "cell_type": "markdown",
      "source": [
        "From above data we can coclude we actually don't need any dimensionality reduction here. As we the values are not highly correlated"
      ],
      "metadata": {
        "id": "kdE1DmXZEHF4"
      }
    },
    {
      "cell_type": "markdown",
      "source": [
        "# Outlier "
      ],
      "metadata": {
        "id": "FJulYUI9E9KN"
      }
    },
    {
      "cell_type": "markdown",
      "source": [
        "Outliers are those data points that are significantly different from the rest of the dataset. They are often abnormal observations that will disturb our model, so we need to remove them under *EDA*."
      ],
      "metadata": {
        "id": "odfRBdy_FHpb"
      }
    },
    {
      "cell_type": "code",
      "source": [
        "data.boxplot(figsize = (15,7))\n",
        "plt.show()"
      ],
      "metadata": {
        "colab": {
          "base_uri": "https://localhost:8080/",
          "height": 429
        },
        "id": "YUkOzCD8D1CO",
        "outputId": "018fa585-2e8f-4bfa-8574-226e85770a3b"
      },
      "execution_count": 102,
      "outputs": [
        {
          "output_type": "display_data",
          "data": {
            "text/plain": [
              "<Figure size 1080x504 with 1 Axes>"
            ],
            "image/png": "[encoded data removed]"
          },
          "metadata": {
            "needs_background": "light"
          }
        }
      ]
    },
    {
      "cell_type": "code",
      "source": [
        "data.describe()"
      ],
      "metadata": {
        "colab": {
          "base_uri": "https://localhost:8080/",
          "height": 300
        },
        "id": "srMb_WgBFfYq",
        "outputId": "d4e5342c-b01c-4813-b625-09af91cb41d7"
      },
      "execution_count": 103,
      "outputs": [
        {
          "output_type": "execute_result",
          "data": {
            "text/plain": [
              "                ph     Hardness        Solids  Chloramines      Sulfate  \\\n",
              "count  3276.000000  3276.000000   3276.000000  3276.000000  3276.000000   \n",
              "mean      7.080795   196.369496  22014.092526     7.122277   333.775777   \n",
              "std       1.469956    32.879761   8768.570828     1.583085    36.142612   \n",
              "min       0.000000    47.432000    320.942611     0.352000   129.000000   \n",
              "25%       6.277673   176.850538  15666.690297     6.127421   317.094638   \n",
              "50%       7.080795   196.967627  20927.833607     7.130299   333.775777   \n",
              "75%       7.870050   216.667456  27332.762127     8.114887   350.385756   \n",
              "max      14.000000   323.124000  61227.196008    13.127000   481.030642   \n",
              "\n",
              "       Conductivity  Organic_carbon  Trihalomethanes    Turbidity   Potability  \n",
              "count   3276.000000     3276.000000      3276.000000  3276.000000  3276.000000  \n",
              "mean     426.205111       14.284970        66.396293     3.966786     0.390110  \n",
              "std       80.824064        3.308162        15.769881     0.780382     0.487849  \n",
              "min      181.483754        2.200000         0.738000     1.450000     0.000000  \n",
              "25%      365.734414       12.065801        56.647656     3.439711     0.000000  \n",
              "50%      421.884968       14.218338        66.396293     3.955028     0.000000  \n",
              "75%      481.792304       16.557652        76.666609     4.500320     1.000000  \n",
              "max      753.342620       28.300000       124.000000     6.739000     1.000000  "
            ],
            "text/html": [
              "\n",
              "  <div id=\"df-7b675e60-b264-4e36-a6ac-c59b326436e7\">\n",
              "    <div class=\"colab-df-container\">\n",
              "      <div>\n",
              "<style scoped>\n",
              "    .dataframe tbody tr th:only-of-type {\n",
              "        vertical-align: middle;\n",
              "    }\n",
              "\n",
              "    .dataframe tbody tr th {\n",
              "        vertical-align: top;\n",
              "    }\n",
              "\n",
              "    .dataframe thead th {\n",
              "        text-align: right;\n",
              "    }\n",
              "</style>\n",
              "<table border=\"1\" class=\"dataframe\">\n",
              "  <thead>\n",
              "    <tr style=\"text-align: right;\">\n",
              "      <th></th>\n",
              "      <th>ph</th>\n",
              "      <th>Hardness</th>\n",
              "      <th>Solids</th>\n",
              "      <th>Chloramines</th>\n",
              "      <th>Sulfate</th>\n",
              "      <th>Conductivity</th>\n",
              "      <th>Organic_carbon</th>\n",
              "      <th>Trihalomethanes</th>\n",
              "      <th>Turbidity</th>\n",
              "      <th>Potability</th>\n",
              "    </tr>\n",
              "  </thead>\n",
              "  <tbody>\n",
              "    <tr>\n",
              "      <th>count</th>\n",
              "      <td>3276.000000</td>\n",
              "      <td>3276.000000</td>\n",
              "      <td>3276.000000</td>\n",
              "      <td>3276.000000</td>\n",
              "      <td>3276.000000</td>\n",
              "      <td>3276.000000</td>\n",
              "      <td>3276.000000</td>\n",
              "      <td>3276.000000</td>\n",
              "      <td>3276.000000</td>\n",
              "      <td>3276.000000</td>\n",
              "    </tr>\n",
              "    <tr>\n",
              "      <th>mean</th>\n",
              "      <td>7.080795</td>\n",
              "      <td>196.369496</td>\n",
              "      <td>22014.092526</td>\n",
              "      <td>7.122277</td>\n",
              "      <td>333.775777</td>\n",
              "      <td>426.205111</td>\n",
              "      <td>14.284970</td>\n",
              "      <td>66.396293</td>\n",
              "      <td>3.966786</td>\n",
              "      <td>0.390110</td>\n",
              "    </tr>\n",
              "    <tr>\n",
              "      <th>std</th>\n",
              "      <td>1.469956</td>\n",
              "      <td>32.879761</td>\n",
              "      <td>8768.570828</td>\n",
              "      <td>1.583085</td>\n",
              "      <td>36.142612</td>\n",
              "      <td>80.824064</td>\n",
              "      <td>3.308162</td>\n",
              "      <td>15.769881</td>\n",
              "      <td>0.780382</td>\n",
              "      <td>0.487849</td>\n",
              "    </tr>\n",
              "    <tr>\n",
              "      <th>min</th>\n",
              "      <td>0.000000</td>\n",
              "      <td>47.432000</td>\n",
              "      <td>320.942611</td>\n",
              "      <td>0.352000</td>\n",
              "      <td>129.000000</td>\n",
              "      <td>181.483754</td>\n",
              "      <td>2.200000</td>\n",
              "      <td>0.738000</td>\n",
              "      <td>1.450000</td>\n",
              "      <td>0.000000</td>\n",
              "    </tr>\n",
              "    <tr>\n",
              "      <th>25%</th>\n",
              "      <td>6.277673</td>\n",
              "      <td>176.850538</td>\n",
              "      <td>15666.690297</td>\n",
              "      <td>6.127421</td>\n",
              "      <td>317.094638</td>\n",
              "      <td>365.734414</td>\n",
              "      <td>12.065801</td>\n",
              "      <td>56.647656</td>\n",
              "      <td>3.439711</td>\n",
              "      <td>0.000000</td>\n",
              "    </tr>\n",
              "    <tr>\n",
              "      <th>50%</th>\n",
              "      <td>7.080795</td>\n",
              "      <td>196.967627</td>\n",
              "      <td>20927.833607</td>\n",
              "      <td>7.130299</td>\n",
              "      <td>333.775777</td>\n",
              "      <td>421.884968</td>\n",
              "      <td>14.218338</td>\n",
              "      <td>66.396293</td>\n",
              "      <td>3.955028</td>\n",
              "      <td>0.000000</td>\n",
              "    </tr>\n",
              "    <tr>\n",
              "      <th>75%</th>\n",
              "      <td>7.870050</td>\n",
              "      <td>216.667456</td>\n",
              "      <td>27332.762127</td>\n",
              "      <td>8.114887</td>\n",
              "      <td>350.385756</td>\n",
              "      <td>481.792304</td>\n",
              "      <td>16.557652</td>\n",
              "      <td>76.666609</td>\n",
              "      <td>4.500320</td>\n",
              "      <td>1.000000</td>\n",
              "    </tr>\n",
              "    <tr>\n",
              "      <th>max</th>\n",
              "      <td>14.000000</td>\n",
              "      <td>323.124000</td>\n",
              "      <td>61227.196008</td>\n",
              "      <td>13.127000</td>\n",
              "      <td>481.030642</td>\n",
              "      <td>753.342620</td>\n",
              "      <td>28.300000</td>\n",
              "      <td>124.000000</td>\n",
              "      <td>6.739000</td>\n",
              "      <td>1.000000</td>\n",
              "    </tr>\n",
              "  </tbody>\n",
              "</table>\n",
              "</div>\n",
              "      <button class=\"colab-df-convert\" onclick=\"convertToInteractive('df-7b675e60-b264-4e36-a6ac-c59b326436e7')\"\n",
              "              title=\"Convert this dataframe to an interactive table.\"\n",
              "              style=\"display:none;\">\n",
              "        \n",
              "  <svg xmlns=\"http://www.w3.org/2000/svg\" height=\"24px\"viewBox=\"0 0 24 24\"\n",
              "       width=\"24px\">\n",
              "    <path d=\"M0 0h24v24H0V0z\" fill=\"none\"/>\n",
              "    <path d=\"M18.56 5.44l.94 2.06.94-2.06 2.06-.94-2.06-.94-.94-2.06-.94 2.06-2.06.94zm-11 1L8.5 8.5l.94-2.06 2.06-.94-2.06-.94L8.5 2.5l-.94 2.06-2.06.94zm10 10l.94 2.06.94-2.06 2.06-.94-2.06-.94-.94-2.06-.94 2.06-2.06.94z\"/><path d=\"M17.41 7.96l-1.37-1.37c-.4-.4-.92-.59-1.43-.59-.52 0-1.04.2-1.43.59L10.3 9.45l-7.72 7.72c-.78.78-.78 2.05 0 2.83L4 21.41c.39.39.9.59 1.41.59.51 0 1.02-.2 1.41-.59l7.78-7.78 2.81-2.81c.8-.78.8-2.07 0-2.86zM5.41 20L4 18.59l7.72-7.72 1.47 1.35L5.41 20z\"/>\n",
              "  </svg>\n",
              "      </button>\n",
              "      \n",
              "  <style>\n",
              "    .colab-df-container {\n",
              "      display:flex;\n",
              "      flex-wrap:wrap;\n",
              "      gap: 12px;\n",
              "    }\n",
              "\n",
              "    .colab-df-convert {\n",
              "      background-color: #E8F0FE;\n",
              "      border: none;\n",
              "      border-radius: 50%;\n",
              "      cursor: pointer;\n",
              "      display: none;\n",
              "      fill: #1967D2;\n",
              "      height: 32px;\n",
              "      padding: 0 0 0 0;\n",
              "      width: 32px;\n",
              "    }\n",
              "\n",
              "    .colab-df-convert:hover {\n",
              "      background-color: #E2EBFA;\n",
              "      box-shadow: 0px 1px 2px rgba(60, 64, 67, 0.3), 0px 1px 3px 1px rgba(60, 64, 67, 0.15);\n",
              "      fill: #174EA6;\n",
              "    }\n",
              "\n",
              "    [theme=dark] .colab-df-convert {\n",
              "      background-color: #3B4455;\n",
              "      fill: #D2E3FC;\n",
              "    }\n",
              "\n",
              "    [theme=dark] .colab-df-convert:hover {\n",
              "      background-color: #434B5C;\n",
              "      box-shadow: 0px 1px 3px 1px rgba(0, 0, 0, 0.15);\n",
              "      filter: drop-shadow(0px 1px 2px rgba(0, 0, 0, 0.3));\n",
              "      fill: #FFFFFF;\n",
              "    }\n",
              "  </style>\n",
              "\n",
              "      <script>\n",
              "        const buttonEl =\n",
              "          document.querySelector('#df-7b675e60-b264-4e36-a6ac-c59b326436e7 button.colab-df-convert');\n",
              "        buttonEl.style.display =\n",
              "          google.colab.kernel.accessAllowed ? 'block' : 'none';\n",
              "\n",
              "        async function convertToInteractive(key) {\n",
              "          const element = document.querySelector('#df-7b675e60-b264-4e36-a6ac-c59b326436e7');\n",
              "          const dataTable =\n",
              "            await google.colab.kernel.invokeFunction('convertToInteractive',\n",
              "                                                     [key], {});\n",
              "          if (!dataTable) return;\n",
              "\n",
              "          const docLinkHtml = 'Like what you see? Visit the ' +\n",
              "            '<a target=\"_blank\" href=https://colab.research.google.com/notebooks/data_table.ipynb>data table notebook</a>'\n",
              "            + ' to learn more about interactive tables.';\n",
              "          element.innerHTML = '';\n",
              "          dataTable['output_type'] = 'display_data';\n",
              "          await google.colab.output.renderOutput(dataTable, element);\n",
              "          const docLink = document.createElement('div');\n",
              "          docLink.innerHTML = docLinkHtml;\n",
              "          element.appendChild(docLink);\n",
              "        }\n",
              "      </script>\n",
              "    </div>\n",
              "  </div>\n",
              "  "
            ]
          },
          "metadata": {},
          "execution_count": 103
        }
      ]
    },
    {
      "cell_type": "code",
      "source": [
        "data['Solids'].describe()"
      ],
      "metadata": {
        "colab": {
          "base_uri": "https://localhost:8080/"
        },
        "id": "BZdRtTkeFscZ",
        "outputId": "1f676ede-073c-4075-ee3c-86be117242aa"
      },
      "execution_count": 104,
      "outputs": [
        {
          "output_type": "execute_result",
          "data": {
            "text/plain": [
              "count     3276.000000\n",
              "mean     22014.092526\n",
              "std       8768.570828\n",
              "min        320.942611\n",
              "25%      15666.690297\n",
              "50%      20927.833607\n",
              "75%      27332.762127\n",
              "max      61227.196008\n",
              "Name: Solids, dtype: float64"
            ]
          },
          "metadata": {},
          "execution_count": 104
        }
      ]
    },
    {
      "cell_type": "markdown",
      "source": [
        "We have decided to not remove that as because solid is also important parmater in deciding the quality of water."
      ],
      "metadata": {
        "id": "9ErnIfH2GCaE"
      }
    },
    {
      "cell_type": "markdown",
      "source": [
        "# Label Encoding "
      ],
      "metadata": {
        "id": "8fQ67aEgHEsK"
      }
    },
    {
      "cell_type": "markdown",
      "source": [
        "Label Encoder converts Categorical Data to Numerical Data which is not needed here."
      ],
      "metadata": {
        "id": "6Yfv5tUWHJbz"
      }
    },
    {
      "cell_type": "markdown",
      "source": [
        "## Potablitiy of this Dataset"
      ],
      "metadata": {
        "id": "YV5F2Ph_Jz4D"
      }
    },
    {
      "cell_type": "markdown",
      "source": [
        "The Potability column of this dataset is the column we need to predict because it contains values 0 and 1 that indicate whether the water is potable (1) or unfit (0) for consumption. So let’s see the distribution of 0 and 1 in the Potability column"
      ],
      "metadata": {
        "id": "RsN63ULnKOOF"
      }
    },
    {
      "cell_type": "code",
      "source": [
        "data['Potability'].value_counts()"
      ],
      "metadata": {
        "colab": {
          "base_uri": "https://localhost:8080/"
        },
        "id": "W5Qk1sQnF47M",
        "outputId": "6aa45535-59fd-4c98-baf9-552ba2e50c13"
      },
      "execution_count": 105,
      "outputs": [
        {
          "output_type": "execute_result",
          "data": {
            "text/plain": [
              "0    1998\n",
              "1    1278\n",
              "Name: Potability, dtype: int64"
            ]
          },
          "metadata": {},
          "execution_count": 105
        }
      ]
    },
    {
      "cell_type": "code",
      "source": [
        "sns.countplot(data['Potability'])\n",
        "plt.show()"
      ],
      "metadata": {
        "colab": {
          "base_uri": "https://localhost:8080/",
          "height": 334
        },
        "id": "Y16hUjhmKkaA",
        "outputId": "4e599493-33de-4fd5-d616-041460d8bef7"
      },
      "execution_count": 106,
      "outputs": [
        {
          "output_type": "stream",
          "name": "stderr",
          "text": [
            "/usr/local/lib/python3.7/dist-packages/seaborn/_decorators.py:43: FutureWarning: Pass the following variable as a keyword arg: x. From version 0.12, the only valid positional argument will be `data`, and passing other arguments without an explicit keyword will result in an error or misinterpretation.\n",
            "  FutureWarning\n"
          ]
        },
        {
          "output_type": "display_data",
          "data": {
            "text/plain": [
              "<Figure size 432x288 with 1 Axes>"
            ],
            "image/png": "[encoded data removed]"
          },
          "metadata": {
            "needs_background": "light"
          }
        }
      ]
    },
    {
      "cell_type": "markdown",
      "source": [
        "This dataset is imbalanced as no. of 0's are greater than no. of 1's but we cant ignore anything as all the features are very much important for prediction of our model."
      ],
      "metadata": {
        "id": "zhPQiD2lKxr2"
      }
    },
    {
      "cell_type": "code",
      "source": [
        "# Checking the Normality of our dataset with the help of Histogram"
      ],
      "metadata": {
        "id": "pnpdCLL-KrdP"
      },
      "execution_count": 107,
      "outputs": []
    },
    {
      "cell_type": "code",
      "source": [
        "data.hist(figsize = (24,12))\n",
        "plt.show()"
      ],
      "metadata": {
        "colab": {
          "base_uri": "https://localhost:8080/",
          "height": 716
        },
        "id": "Y_0XGXzTSXe0",
        "outputId": "634d906c-f1e6-4572-8c12-50b1753e3995"
      },
      "execution_count": 108,
      "outputs": [
        {
          "output_type": "display_data",
          "data": {
            "text/plain": [
              "<Figure size 1728x864 with 12 Axes>"
            ],
            "image/png": "[encoded data removed]"
          },
          "metadata": {
            "needs_background": "light"
          }
        }
      ]
    },
    {
      "cell_type": "markdown",
      "source": [
        "Above dataset is normal"
      ],
      "metadata": {
        "id": "YDXujlKhS1EP"
      }
    },
    {
      "cell_type": "markdown",
      "source": [
        "# Partioning\n",
        "\n"
      ],
      "metadata": {
        "id": "oCSmoxWRS_pc"
      }
    },
    {
      "cell_type": "code",
      "source": [
        "data"
      ],
      "metadata": {
        "colab": {
          "base_uri": "https://localhost:8080/",
          "height": 424
        },
        "id": "zWlJJqRXdlxO",
        "outputId": "bed4a626-6cd2-4622-dc9d-cd1894e09dc4"
      },
      "execution_count": 111,
      "outputs": [
        {
          "output_type": "execute_result",
          "data": {
            "text/plain": [
              "            ph    Hardness        Solids  Chloramines     Sulfate  \\\n",
              "0     7.080795  204.890455  20791.318981     7.300212  368.516441   \n",
              "1     3.716080  129.422921  18630.057858     6.635246  333.775777   \n",
              "2     8.099124  224.236259  19909.541732     9.275884  333.775777   \n",
              "3     8.316766  214.373394  22018.417441     8.059332  356.886136   \n",
              "4     9.092223  181.101509  17978.986339     6.546600  310.135738   \n",
              "...        ...         ...           ...          ...         ...   \n",
              "3271  4.668102  193.681735  47580.991603     7.166639  359.948574   \n",
              "3272  7.808856  193.553212  17329.802160     8.061362  333.775777   \n",
              "3273  9.419510  175.762646  33155.578218     7.350233  333.775777   \n",
              "3274  5.126763  230.603758  11983.869376     6.303357  333.775777   \n",
              "3275  7.874671  195.102299  17404.177061     7.509306  333.775777   \n",
              "\n",
              "      Conductivity  Organic_carbon  Trihalomethanes  Turbidity  Potability  \n",
              "0       564.308654       10.379783        86.990970   2.963135           0  \n",
              "1       592.885359       15.180013        56.329076   4.500656           0  \n",
              "2       418.606213       16.868637        66.420093   3.055934           0  \n",
              "3       363.266516       18.436524       100.341674   4.628771           0  \n",
              "4       398.410813       11.558279        31.997993   4.075075           0  \n",
              "...            ...             ...              ...        ...         ...  \n",
              "3271    526.424171       13.894419        66.687695   4.435821           1  \n",
              "3272    392.449580       19.903225        66.396293   2.798243           1  \n",
              "3273    432.044783       11.039070        69.845400   3.298875           1  \n",
              "3274    402.883113       11.168946        77.488213   4.708658           1  \n",
              "3275    327.459760       16.140368        78.698446   2.309149           1  \n",
              "\n",
              "[3276 rows x 10 columns]"
            ],
            "text/html": [
              "\n",
              "  <div id=\"df-5d5955f4-dab2-4dc1-a585-7704f45a697a\">\n",
              "    <div class=\"colab-df-container\">\n",
              "      <div>\n",
              "<style scoped>\n",
              "    .dataframe tbody tr th:only-of-type {\n",
              "        vertical-align: middle;\n",
              "    }\n",
              "\n",
              "    .dataframe tbody tr th {\n",
              "        vertical-align: top;\n",
              "    }\n",
              "\n",
              "    .dataframe thead th {\n",
              "        text-align: right;\n",
              "    }\n",
              "</style>\n",
              "<table border=\"1\" class=\"dataframe\">\n",
              "  <thead>\n",
              "    <tr style=\"text-align: right;\">\n",
              "      <th></th>\n",
              "      <th>ph</th>\n",
              "      <th>Hardness</th>\n",
              "      <th>Solids</th>\n",
              "      <th>Chloramines</th>\n",
              "      <th>Sulfate</th>\n",
              "      <th>Conductivity</th>\n",
              "      <th>Organic_carbon</th>\n",
              "      <th>Trihalomethanes</th>\n",
              "      <th>Turbidity</th>\n",
              "      <th>Potability</th>\n",
              "    </tr>\n",
              "  </thead>\n",
              "  <tbody>\n",
              "    <tr>\n",
              "      <th>0</th>\n",
              "      <td>7.080795</td>\n",
              "      <td>204.890455</td>\n",
              "      <td>20791.318981</td>\n",
              "      <td>7.300212</td>\n",
              "      <td>368.516441</td>\n",
              "      <td>564.308654</td>\n",
              "      <td>10.379783</td>\n",
              "      <td>86.990970</td>\n",
              "      <td>2.963135</td>\n",
              "      <td>0</td>\n",
              "    </tr>\n",
              "    <tr>\n",
              "      <th>1</th>\n",
              "      <td>3.716080</td>\n",
              "      <td>129.422921</td>\n",
              "      <td>18630.057858</td>\n",
              "      <td>6.635246</td>\n",
              "      <td>333.775777</td>\n",
              "      <td>592.885359</td>\n",
              "      <td>15.180013</td>\n",
              "      <td>56.329076</td>\n",
              "      <td>4.500656</td>\n",
              "      <td>0</td>\n",
              "    </tr>\n",
              "    <tr>\n",
              "      <th>2</th>\n",
              "      <td>8.099124</td>\n",
              "      <td>224.236259</td>\n",
              "      <td>19909.541732</td>\n",
              "      <td>9.275884</td>\n",
              "      <td>333.775777</td>\n",
              "      <td>418.606213</td>\n",
              "      <td>16.868637</td>\n",
              "      <td>66.420093</td>\n",
              "      <td>3.055934</td>\n",
              "      <td>0</td>\n",
              "    </tr>\n",
              "    <tr>\n",
              "      <th>3</th>\n",
              "      <td>8.316766</td>\n",
              "      <td>214.373394</td>\n",
              "      <td>22018.417441</td>\n",
              "      <td>8.059332</td>\n",
              "      <td>356.886136</td>\n",
              "      <td>363.266516</td>\n",
              "      <td>18.436524</td>\n",
              "      <td>100.341674</td>\n",
              "      <td>4.628771</td>\n",
              "      <td>0</td>\n",
              "    </tr>\n",
              "    <tr>\n",
              "      <th>4</th>\n",
              "      <td>9.092223</td>\n",
              "      <td>181.101509</td>\n",
              "      <td>17978.986339</td>\n",
              "      <td>6.546600</td>\n",
              "      <td>310.135738</td>\n",
              "      <td>398.410813</td>\n",
              "      <td>11.558279</td>\n",
              "      <td>31.997993</td>\n",
              "      <td>4.075075</td>\n",
              "      <td>0</td>\n",
              "    </tr>\n",
              "    <tr>\n",
              "      <th>...</th>\n",
              "      <td>...</td>\n",
              "      <td>...</td>\n",
              "      <td>...</td>\n",
              "      <td>...</td>\n",
              "      <td>...</td>\n",
              "      <td>...</td>\n",
              "      <td>...</td>\n",
              "      <td>...</td>\n",
              "      <td>...</td>\n",
              "      <td>...</td>\n",
              "    </tr>\n",
              "    <tr>\n",
              "      <th>3271</th>\n",
              "      <td>4.668102</td>\n",
              "      <td>193.681735</td>\n",
              "      <td>47580.991603</td>\n",
              "      <td>7.166639</td>\n",
              "      <td>359.948574</td>\n",
              "      <td>526.424171</td>\n",
              "      <td>13.894419</td>\n",
              "      <td>66.687695</td>\n",
              "      <td>4.435821</td>\n",
              "      <td>1</td>\n",
              "    </tr>\n",
              "    <tr>\n",
              "      <th>3272</th>\n",
              "      <td>7.808856</td>\n",
              "      <td>193.553212</td>\n",
              "      <td>17329.802160</td>\n",
              "      <td>8.061362</td>\n",
              "      <td>333.775777</td>\n",
              "      <td>392.449580</td>\n",
              "      <td>19.903225</td>\n",
              "      <td>66.396293</td>\n",
              "      <td>2.798243</td>\n",
              "      <td>1</td>\n",
              "    </tr>\n",
              "    <tr>\n",
              "      <th>3273</th>\n",
              "      <td>9.419510</td>\n",
              "      <td>175.762646</td>\n",
              "      <td>33155.578218</td>\n",
              "      <td>7.350233</td>\n",
              "      <td>333.775777</td>\n",
              "      <td>432.044783</td>\n",
              "      <td>11.039070</td>\n",
              "      <td>69.845400</td>\n",
              "      <td>3.298875</td>\n",
              "      <td>1</td>\n",
              "    </tr>\n",
              "    <tr>\n",
              "      <th>3274</th>\n",
              "      <td>5.126763</td>\n",
              "      <td>230.603758</td>\n",
              "      <td>11983.869376</td>\n",
              "      <td>6.303357</td>\n",
              "      <td>333.775777</td>\n",
              "      <td>402.883113</td>\n",
              "      <td>11.168946</td>\n",
              "      <td>77.488213</td>\n",
              "      <td>4.708658</td>\n",
              "      <td>1</td>\n",
              "    </tr>\n",
              "    <tr>\n",
              "      <th>3275</th>\n",
              "      <td>7.874671</td>\n",
              "      <td>195.102299</td>\n",
              "      <td>17404.177061</td>\n",
              "      <td>7.509306</td>\n",
              "      <td>333.775777</td>\n",
              "      <td>327.459760</td>\n",
              "      <td>16.140368</td>\n",
              "      <td>78.698446</td>\n",
              "      <td>2.309149</td>\n",
              "      <td>1</td>\n",
              "    </tr>\n",
              "  </tbody>\n",
              "</table>\n",
              "<p>3276 rows × 10 columns</p>\n",
              "</div>\n",
              "      <button class=\"colab-df-convert\" onclick=\"convertToInteractive('df-5d5955f4-dab2-4dc1-a585-7704f45a697a')\"\n",
              "              title=\"Convert this dataframe to an interactive table.\"\n",
              "              style=\"display:none;\">\n",
              "        \n",
              "  <svg xmlns=\"http://www.w3.org/2000/svg\" height=\"24px\"viewBox=\"0 0 24 24\"\n",
              "       width=\"24px\">\n",
              "    <path d=\"M0 0h24v24H0V0z\" fill=\"none\"/>\n",
              "    <path d=\"M18.56 5.44l.94 2.06.94-2.06 2.06-.94-2.06-.94-.94-2.06-.94 2.06-2.06.94zm-11 1L8.5 8.5l.94-2.06 2.06-.94-2.06-.94L8.5 2.5l-.94 2.06-2.06.94zm10 10l.94 2.06.94-2.06 2.06-.94-2.06-.94-.94-2.06-.94 2.06-2.06.94z\"/><path d=\"M17.41 7.96l-1.37-1.37c-.4-.4-.92-.59-1.43-.59-.52 0-1.04.2-1.43.59L10.3 9.45l-7.72 7.72c-.78.78-.78 2.05 0 2.83L4 21.41c.39.39.9.59 1.41.59.51 0 1.02-.2 1.41-.59l7.78-7.78 2.81-2.81c.8-.78.8-2.07 0-2.86zM5.41 20L4 18.59l7.72-7.72 1.47 1.35L5.41 20z\"/>\n",
              "  </svg>\n",
              "      </button>\n",
              "      \n",
              "  <style>\n",
              "    .colab-df-container {\n",
              "      display:flex;\n",
              "      flex-wrap:wrap;\n",
              "      gap: 12px;\n",
              "    }\n",
              "\n",
              "    .colab-df-convert {\n",
              "      background-color: #E8F0FE;\n",
              "      border: none;\n",
              "      border-radius: 50%;\n",
              "      cursor: pointer;\n",
              "      display: none;\n",
              "      fill: #1967D2;\n",
              "      height: 32px;\n",
              "      padding: 0 0 0 0;\n",
              "      width: 32px;\n",
              "    }\n",
              "\n",
              "    .colab-df-convert:hover {\n",
              "      background-color: #E2EBFA;\n",
              "      box-shadow: 0px 1px 2px rgba(60, 64, 67, 0.3), 0px 1px 3px 1px rgba(60, 64, 67, 0.15);\n",
              "      fill: #174EA6;\n",
              "    }\n",
              "\n",
              "    [theme=dark] .colab-df-convert {\n",
              "      background-color: #3B4455;\n",
              "      fill: #D2E3FC;\n",
              "    }\n",
              "\n",
              "    [theme=dark] .colab-df-convert:hover {\n",
              "      background-color: #434B5C;\n",
              "      box-shadow: 0px 1px 3px 1px rgba(0, 0, 0, 0.15);\n",
              "      filter: drop-shadow(0px 1px 2px rgba(0, 0, 0, 0.3));\n",
              "      fill: #FFFFFF;\n",
              "    }\n",
              "  </style>\n",
              "\n",
              "      <script>\n",
              "        const buttonEl =\n",
              "          document.querySelector('#df-5d5955f4-dab2-4dc1-a585-7704f45a697a button.colab-df-convert');\n",
              "        buttonEl.style.display =\n",
              "          google.colab.kernel.accessAllowed ? 'block' : 'none';\n",
              "\n",
              "        async function convertToInteractive(key) {\n",
              "          const element = document.querySelector('#df-5d5955f4-dab2-4dc1-a585-7704f45a697a');\n",
              "          const dataTable =\n",
              "            await google.colab.kernel.invokeFunction('convertToInteractive',\n",
              "                                                     [key], {});\n",
              "          if (!dataTable) return;\n",
              "\n",
              "          const docLinkHtml = 'Like what you see? Visit the ' +\n",
              "            '<a target=\"_blank\" href=https://colab.research.google.com/notebooks/data_table.ipynb>data table notebook</a>'\n",
              "            + ' to learn more about interactive tables.';\n",
              "          element.innerHTML = '';\n",
              "          dataTable['output_type'] = 'display_data';\n",
              "          await google.colab.output.renderOutput(dataTable, element);\n",
              "          const docLink = document.createElement('div');\n",
              "          docLink.innerHTML = docLinkHtml;\n",
              "          element.appendChild(docLink);\n",
              "        }\n",
              "      </script>\n",
              "    </div>\n",
              "  </div>\n",
              "  "
            ]
          },
          "metadata": {},
          "execution_count": 111
        }
      ]
    },
    {
      "cell_type": "markdown",
      "source": [
        "Divide data into x-input variable and y-target variable"
      ],
      "metadata": {
        "id": "_aI_LT2VefoL"
      }
    },
    {
      "cell_type": "code",
      "source": [
        "X = data.drop('Potability',axis=1) # input variable or input data"
      ],
      "metadata": {
        "id": "_uWA89V_d-Rt"
      },
      "execution_count": 120,
      "outputs": []
    },
    {
      "cell_type": "code",
      "source": [
        "X"
      ],
      "metadata": {
        "colab": {
          "base_uri": "https://localhost:8080/",
          "height": 424
        },
        "id": "XEWgU9t1erAS",
        "outputId": "6b52b0fe-9d20-4f75-9498-88649f946133"
      },
      "execution_count": 116,
      "outputs": [
        {
          "output_type": "execute_result",
          "data": {
            "text/plain": [
              "            ph    Hardness        Solids  Chloramines     Sulfate  \\\n",
              "0     7.080795  204.890455  20791.318981     7.300212  368.516441   \n",
              "1     3.716080  129.422921  18630.057858     6.635246  333.775777   \n",
              "2     8.099124  224.236259  19909.541732     9.275884  333.775777   \n",
              "3     8.316766  214.373394  22018.417441     8.059332  356.886136   \n",
              "4     9.092223  181.101509  17978.986339     6.546600  310.135738   \n",
              "...        ...         ...           ...          ...         ...   \n",
              "3271  4.668102  193.681735  47580.991603     7.166639  359.948574   \n",
              "3272  7.808856  193.553212  17329.802160     8.061362  333.775777   \n",
              "3273  9.419510  175.762646  33155.578218     7.350233  333.775777   \n",
              "3274  5.126763  230.603758  11983.869376     6.303357  333.775777   \n",
              "3275  7.874671  195.102299  17404.177061     7.509306  333.775777   \n",
              "\n",
              "      Conductivity  Organic_carbon  Trihalomethanes  Turbidity  \n",
              "0       564.308654       10.379783        86.990970   2.963135  \n",
              "1       592.885359       15.180013        56.329076   4.500656  \n",
              "2       418.606213       16.868637        66.420093   3.055934  \n",
              "3       363.266516       18.436524       100.341674   4.628771  \n",
              "4       398.410813       11.558279        31.997993   4.075075  \n",
              "...            ...             ...              ...        ...  \n",
              "3271    526.424171       13.894419        66.687695   4.435821  \n",
              "3272    392.449580       19.903225        66.396293   2.798243  \n",
              "3273    432.044783       11.039070        69.845400   3.298875  \n",
              "3274    402.883113       11.168946        77.488213   4.708658  \n",
              "3275    327.459760       16.140368        78.698446   2.309149  \n",
              "\n",
              "[3276 rows x 9 columns]"
            ],
            "text/html": [
              "\n",
              "  <div id=\"df-073b0870-6ac5-460c-8716-d2e5de05ea88\">\n",
              "    <div class=\"colab-df-container\">\n",
              "      <div>\n",
              "<style scoped>\n",
              "    .dataframe tbody tr th:only-of-type {\n",
              "        vertical-align: middle;\n",
              "    }\n",
              "\n",
              "    .dataframe tbody tr th {\n",
              "        vertical-align: top;\n",
              "    }\n",
              "\n",
              "    .dataframe thead th {\n",
              "        text-align: right;\n",
              "    }\n",
              "</style>\n",
              "<table border=\"1\" class=\"dataframe\">\n",
              "  <thead>\n",
              "    <tr style=\"text-align: right;\">\n",
              "      <th></th>\n",
              "      <th>ph</th>\n",
              "      <th>Hardness</th>\n",
              "      <th>Solids</th>\n",
              "      <th>Chloramines</th>\n",
              "      <th>Sulfate</th>\n",
              "      <th>Conductivity</th>\n",
              "      <th>Organic_carbon</th>\n",
              "      <th>Trihalomethanes</th>\n",
              "      <th>Turbidity</th>\n",
              "    </tr>\n",
              "  </thead>\n",
              "  <tbody>\n",
              "    <tr>\n",
              "      <th>0</th>\n",
              "      <td>7.080795</td>\n",
              "      <td>204.890455</td>\n",
              "      <td>20791.318981</td>\n",
              "      <td>7.300212</td>\n",
              "      <td>368.516441</td>\n",
              "      <td>564.308654</td>\n",
              "      <td>10.379783</td>\n",
              "      <td>86.990970</td>\n",
              "      <td>2.963135</td>\n",
              "    </tr>\n",
              "    <tr>\n",
              "      <th>1</th>\n",
              "      <td>3.716080</td>\n",
              "      <td>129.422921</td>\n",
              "      <td>18630.057858</td>\n",
              "      <td>6.635246</td>\n",
              "      <td>333.775777</td>\n",
              "      <td>592.885359</td>\n",
              "      <td>15.180013</td>\n",
              "      <td>56.329076</td>\n",
              "      <td>4.500656</td>\n",
              "    </tr>\n",
              "    <tr>\n",
              "      <th>2</th>\n",
              "      <td>8.099124</td>\n",
              "      <td>224.236259</td>\n",
              "      <td>19909.541732</td>\n",
              "      <td>9.275884</td>\n",
              "      <td>333.775777</td>\n",
              "      <td>418.606213</td>\n",
              "      <td>16.868637</td>\n",
              "      <td>66.420093</td>\n",
              "      <td>3.055934</td>\n",
              "    </tr>\n",
              "    <tr>\n",
              "      <th>3</th>\n",
              "      <td>8.316766</td>\n",
              "      <td>214.373394</td>\n",
              "      <td>22018.417441</td>\n",
              "      <td>8.059332</td>\n",
              "      <td>356.886136</td>\n",
              "      <td>363.266516</td>\n",
              "      <td>18.436524</td>\n",
              "      <td>100.341674</td>\n",
              "      <td>4.628771</td>\n",
              "    </tr>\n",
              "    <tr>\n",
              "      <th>4</th>\n",
              "      <td>9.092223</td>\n",
              "      <td>181.101509</td>\n",
              "      <td>17978.986339</td>\n",
              "      <td>6.546600</td>\n",
              "      <td>310.135738</td>\n",
              "      <td>398.410813</td>\n",
              "      <td>11.558279</td>\n",
              "      <td>31.997993</td>\n",
              "      <td>4.075075</td>\n",
              "    </tr>\n",
              "    <tr>\n",
              "      <th>...</th>\n",
              "      <td>...</td>\n",
              "      <td>...</td>\n",
              "      <td>...</td>\n",
              "      <td>...</td>\n",
              "      <td>...</td>\n",
              "      <td>...</td>\n",
              "      <td>...</td>\n",
              "      <td>...</td>\n",
              "      <td>...</td>\n",
              "    </tr>\n",
              "    <tr>\n",
              "      <th>3271</th>\n",
              "      <td>4.668102</td>\n",
              "      <td>193.681735</td>\n",
              "      <td>47580.991603</td>\n",
              "      <td>7.166639</td>\n",
              "      <td>359.948574</td>\n",
              "      <td>526.424171</td>\n",
              "      <td>13.894419</td>\n",
              "      <td>66.687695</td>\n",
              "      <td>4.435821</td>\n",
              "    </tr>\n",
              "    <tr>\n",
              "      <th>3272</th>\n",
              "      <td>7.808856</td>\n",
              "      <td>193.553212</td>\n",
              "      <td>17329.802160</td>\n",
              "      <td>8.061362</td>\n",
              "      <td>333.775777</td>\n",
              "      <td>392.449580</td>\n",
              "      <td>19.903225</td>\n",
              "      <td>66.396293</td>\n",
              "      <td>2.798243</td>\n",
              "    </tr>\n",
              "    <tr>\n",
              "      <th>3273</th>\n",
              "      <td>9.419510</td>\n",
              "      <td>175.762646</td>\n",
              "      <td>33155.578218</td>\n",
              "      <td>7.350233</td>\n",
              "      <td>333.775777</td>\n",
              "      <td>432.044783</td>\n",
              "      <td>11.039070</td>\n",
              "      <td>69.845400</td>\n",
              "      <td>3.298875</td>\n",
              "    </tr>\n",
              "    <tr>\n",
              "      <th>3274</th>\n",
              "      <td>5.126763</td>\n",
              "      <td>230.603758</td>\n",
              "      <td>11983.869376</td>\n",
              "      <td>6.303357</td>\n",
              "      <td>333.775777</td>\n",
              "      <td>402.883113</td>\n",
              "      <td>11.168946</td>\n",
              "      <td>77.488213</td>\n",
              "      <td>4.708658</td>\n",
              "    </tr>\n",
              "    <tr>\n",
              "      <th>3275</th>\n",
              "      <td>7.874671</td>\n",
              "      <td>195.102299</td>\n",
              "      <td>17404.177061</td>\n",
              "      <td>7.509306</td>\n",
              "      <td>333.775777</td>\n",
              "      <td>327.459760</td>\n",
              "      <td>16.140368</td>\n",
              "      <td>78.698446</td>\n",
              "      <td>2.309149</td>\n",
              "    </tr>\n",
              "  </tbody>\n",
              "</table>\n",
              "<p>3276 rows × 9 columns</p>\n",
              "</div>\n",
              "      <button class=\"colab-df-convert\" onclick=\"convertToInteractive('df-073b0870-6ac5-460c-8716-d2e5de05ea88')\"\n",
              "              title=\"Convert this dataframe to an interactive table.\"\n",
              "              style=\"display:none;\">\n",
              "        \n",
              "  <svg xmlns=\"http://www.w3.org/2000/svg\" height=\"24px\"viewBox=\"0 0 24 24\"\n",
              "       width=\"24px\">\n",
              "    <path d=\"M0 0h24v24H0V0z\" fill=\"none\"/>\n",
              "    <path d=\"M18.56 5.44l.94 2.06.94-2.06 2.06-.94-2.06-.94-.94-2.06-.94 2.06-2.06.94zm-11 1L8.5 8.5l.94-2.06 2.06-.94-2.06-.94L8.5 2.5l-.94 2.06-2.06.94zm10 10l.94 2.06.94-2.06 2.06-.94-2.06-.94-.94-2.06-.94 2.06-2.06.94z\"/><path d=\"M17.41 7.96l-1.37-1.37c-.4-.4-.92-.59-1.43-.59-.52 0-1.04.2-1.43.59L10.3 9.45l-7.72 7.72c-.78.78-.78 2.05 0 2.83L4 21.41c.39.39.9.59 1.41.59.51 0 1.02-.2 1.41-.59l7.78-7.78 2.81-2.81c.8-.78.8-2.07 0-2.86zM5.41 20L4 18.59l7.72-7.72 1.47 1.35L5.41 20z\"/>\n",
              "  </svg>\n",
              "      </button>\n",
              "      \n",
              "  <style>\n",
              "    .colab-df-container {\n",
              "      display:flex;\n",
              "      flex-wrap:wrap;\n",
              "      gap: 12px;\n",
              "    }\n",
              "\n",
              "    .colab-df-convert {\n",
              "      background-color: #E8F0FE;\n",
              "      border: none;\n",
              "      border-radius: 50%;\n",
              "      cursor: pointer;\n",
              "      display: none;\n",
              "      fill: #1967D2;\n",
              "      height: 32px;\n",
              "      padding: 0 0 0 0;\n",
              "      width: 32px;\n",
              "    }\n",
              "\n",
              "    .colab-df-convert:hover {\n",
              "      background-color: #E2EBFA;\n",
              "      box-shadow: 0px 1px 2px rgba(60, 64, 67, 0.3), 0px 1px 3px 1px rgba(60, 64, 67, 0.15);\n",
              "      fill: #174EA6;\n",
              "    }\n",
              "\n",
              "    [theme=dark] .colab-df-convert {\n",
              "      background-color: #3B4455;\n",
              "      fill: #D2E3FC;\n",
              "    }\n",
              "\n",
              "    [theme=dark] .colab-df-convert:hover {\n",
              "      background-color: #434B5C;\n",
              "      box-shadow: 0px 1px 3px 1px rgba(0, 0, 0, 0.15);\n",
              "      filter: drop-shadow(0px 1px 2px rgba(0, 0, 0, 0.3));\n",
              "      fill: #FFFFFF;\n",
              "    }\n",
              "  </style>\n",
              "\n",
              "      <script>\n",
              "        const buttonEl =\n",
              "          document.querySelector('#df-073b0870-6ac5-460c-8716-d2e5de05ea88 button.colab-df-convert');\n",
              "        buttonEl.style.display =\n",
              "          google.colab.kernel.accessAllowed ? 'block' : 'none';\n",
              "\n",
              "        async function convertToInteractive(key) {\n",
              "          const element = document.querySelector('#df-073b0870-6ac5-460c-8716-d2e5de05ea88');\n",
              "          const dataTable =\n",
              "            await google.colab.kernel.invokeFunction('convertToInteractive',\n",
              "                                                     [key], {});\n",
              "          if (!dataTable) return;\n",
              "\n",
              "          const docLinkHtml = 'Like what you see? Visit the ' +\n",
              "            '<a target=\"_blank\" href=https://colab.research.google.com/notebooks/data_table.ipynb>data table notebook</a>'\n",
              "            + ' to learn more about interactive tables.';\n",
              "          element.innerHTML = '';\n",
              "          dataTable['output_type'] = 'display_data';\n",
              "          await google.colab.output.renderOutput(dataTable, element);\n",
              "          const docLink = document.createElement('div');\n",
              "          docLink.innerHTML = docLinkHtml;\n",
              "          element.appendChild(docLink);\n",
              "        }\n",
              "      </script>\n",
              "    </div>\n",
              "  </div>\n",
              "  "
            ]
          },
          "metadata": {},
          "execution_count": 116
        }
      ]
    },
    {
      "cell_type": "code",
      "source": [
        "Y = data['Potability'] # target variable"
      ],
      "metadata": {
        "id": "LLNmKyUOewGr"
      },
      "execution_count": 121,
      "outputs": []
    },
    {
      "cell_type": "code",
      "source": [
        "Y"
      ],
      "metadata": {
        "colab": {
          "base_uri": "https://localhost:8080/"
        },
        "id": "7iXp9Vzge-ZG",
        "outputId": "8d94af46-5855-4b14-8079-bb6bdf4ae463"
      },
      "execution_count": 118,
      "outputs": [
        {
          "output_type": "execute_result",
          "data": {
            "text/plain": [
              "0       0\n",
              "1       0\n",
              "2       0\n",
              "3       0\n",
              "4       0\n",
              "       ..\n",
              "3271    1\n",
              "3272    1\n",
              "3273    1\n",
              "3274    1\n",
              "3275    1\n",
              "Name: Potability, Length: 3276, dtype: int64"
            ]
          },
          "metadata": {},
          "execution_count": 118
        }
      ]
    },
    {
      "cell_type": "markdown",
      "source": [
        "Using train_test_split to split our data into train and test data"
      ],
      "metadata": {
        "id": "EbKwVy48fTBg"
      }
    },
    {
      "cell_type": "code",
      "source": [
        "#importing from sklearn\n",
        "\n",
        "from sklearn.model_selection import train_test_split"
      ],
      "metadata": {
        "id": "mp5azcpme_KD"
      },
      "execution_count": 123,
      "outputs": []
    },
    {
      "cell_type": "code",
      "source": [
        "X_train, X_test, Y_train, Y_test = train_test_split(X,Y,test_size = 0.2, shuffle = True, random_state = 101) # 101 denotes the shuffling order"
      ],
      "metadata": {
        "id": "dS2joUIJfqvd"
      },
      "execution_count": 124,
      "outputs": []
    },
    {
      "cell_type": "code",
      "source": [
        "X_train"
      ],
      "metadata": {
        "colab": {
          "base_uri": "https://localhost:8080/",
          "height": 424
        },
        "id": "9CYopQf6gK60",
        "outputId": "6755777c-4cbe-4c78-d3ed-01910994c9cd"
      },
      "execution_count": 125,
      "outputs": [
        {
          "output_type": "execute_result",
          "data": {
            "text/plain": [
              "            ph    Hardness        Solids  Chloramines     Sulfate  \\\n",
              "748   6.750761  207.254505  23642.992597     7.691012  293.783040   \n",
              "2279  7.539742  201.959317  26716.359708     5.637350  333.775777   \n",
              "1960  8.128270  231.167537  19954.575554     5.138838  349.067363   \n",
              "1491  7.368166  204.041451   8524.874646     9.469763  429.814322   \n",
              "2991  6.628256  198.865743  15911.357509     7.517906  342.015924   \n",
              "...        ...         ...           ...          ...         ...   \n",
              "599   7.080795  205.638790  39742.970329     4.660528  323.956492   \n",
              "1599  8.227083  274.351887  40546.956332     7.130161  241.446917   \n",
              "1361  4.906492  173.779159  14786.138901     5.843757  267.561144   \n",
              "1547  6.217585  203.707222  15597.640883     7.751461  361.247810   \n",
              "863   7.685397  230.335708   7324.701425     7.991366  331.512533   \n",
              "\n",
              "      Conductivity  Organic_carbon  Trihalomethanes  Turbidity  \n",
              "748     446.696939        6.000391        30.900815   2.777726  \n",
              "2279    516.354560       14.985649        83.536821   4.210678  \n",
              "1960    386.071149       15.018085        63.340968   4.678742  \n",
              "1491    328.565288       11.173155        88.888819   3.684263  \n",
              "2991    437.918625       15.005742        38.845958   4.464457  \n",
              "...            ...             ...              ...        ...  \n",
              "599     509.546419       11.674850        55.042679   3.916746  \n",
              "1599    417.673702        9.809669        79.397105   3.619182  \n",
              "1361    620.346840        7.775896        38.794307   3.152345  \n",
              "1547    452.922025       14.597145        70.850977   4.150167  \n",
              "863     492.850391       14.233952        74.068658   4.179187  \n",
              "\n",
              "[2620 rows x 9 columns]"
            ],
            "text/html": [
              "\n",
              "  <div id=\"df-b1c1834c-7dd9-48dc-80fb-3f9687beab94\">\n",
              "    <div class=\"colab-df-container\">\n",
              "      <div>\n",
              "<style scoped>\n",
              "    .dataframe tbody tr th:only-of-type {\n",
              "        vertical-align: middle;\n",
              "    }\n",
              "\n",
              "    .dataframe tbody tr th {\n",
              "        vertical-align: top;\n",
              "    }\n",
              "\n",
              "    .dataframe thead th {\n",
              "        text-align: right;\n",
              "    }\n",
              "</style>\n",
              "<table border=\"1\" class=\"dataframe\">\n",
              "  <thead>\n",
              "    <tr style=\"text-align: right;\">\n",
              "      <th></th>\n",
              "      <th>ph</th>\n",
              "      <th>Hardness</th>\n",
              "      <th>Solids</th>\n",
              "      <th>Chloramines</th>\n",
              "      <th>Sulfate</th>\n",
              "      <th>Conductivity</th>\n",
              "      <th>Organic_carbon</th>\n",
              "      <th>Trihalomethanes</th>\n",
              "      <th>Turbidity</th>\n",
              "    </tr>\n",
              "  </thead>\n",
              "  <tbody>\n",
              "    <tr>\n",
              "      <th>748</th>\n",
              "      <td>6.750761</td>\n",
              "      <td>207.254505</td>\n",
              "      <td>23642.992597</td>\n",
              "      <td>7.691012</td>\n",
              "      <td>293.783040</td>\n",
              "      <td>446.696939</td>\n",
              "      <td>6.000391</td>\n",
              "      <td>30.900815</td>\n",
              "      <td>2.777726</td>\n",
              "    </tr>\n",
              "    <tr>\n",
              "      <th>2279</th>\n",
              "      <td>7.539742</td>\n",
              "      <td>201.959317</td>\n",
              "      <td>26716.359708</td>\n",
              "      <td>5.637350</td>\n",
              "      <td>333.775777</td>\n",
              "      <td>516.354560</td>\n",
              "      <td>14.985649</td>\n",
              "      <td>83.536821</td>\n",
              "      <td>4.210678</td>\n",
              "    </tr>\n",
              "    <tr>\n",
              "      <th>1960</th>\n",
              "      <td>8.128270</td>\n",
              "      <td>231.167537</td>\n",
              "      <td>19954.575554</td>\n",
              "      <td>5.138838</td>\n",
              "      <td>349.067363</td>\n",
              "      <td>386.071149</td>\n",
              "      <td>15.018085</td>\n",
              "      <td>63.340968</td>\n",
              "      <td>4.678742</td>\n",
              "    </tr>\n",
              "    <tr>\n",
              "      <th>1491</th>\n",
              "      <td>7.368166</td>\n",
              "      <td>204.041451</td>\n",
              "      <td>8524.874646</td>\n",
              "      <td>9.469763</td>\n",
              "      <td>429.814322</td>\n",
              "      <td>328.565288</td>\n",
              "      <td>11.173155</td>\n",
              "      <td>88.888819</td>\n",
              "      <td>3.684263</td>\n",
              "    </tr>\n",
              "    <tr>\n",
              "      <th>2991</th>\n",
              "      <td>6.628256</td>\n",
              "      <td>198.865743</td>\n",
              "      <td>15911.357509</td>\n",
              "      <td>7.517906</td>\n",
              "      <td>342.015924</td>\n",
              "      <td>437.918625</td>\n",
              "      <td>15.005742</td>\n",
              "      <td>38.845958</td>\n",
              "      <td>4.464457</td>\n",
              "    </tr>\n",
              "    <tr>\n",
              "      <th>...</th>\n",
              "      <td>...</td>\n",
              "      <td>...</td>\n",
              "      <td>...</td>\n",
              "      <td>...</td>\n",
              "      <td>...</td>\n",
              "      <td>...</td>\n",
              "      <td>...</td>\n",
              "      <td>...</td>\n",
              "      <td>...</td>\n",
              "    </tr>\n",
              "    <tr>\n",
              "      <th>599</th>\n",
              "      <td>7.080795</td>\n",
              "      <td>205.638790</td>\n",
              "      <td>39742.970329</td>\n",
              "      <td>4.660528</td>\n",
              "      <td>323.956492</td>\n",
              "      <td>509.546419</td>\n",
              "      <td>11.674850</td>\n",
              "      <td>55.042679</td>\n",
              "      <td>3.916746</td>\n",
              "    </tr>\n",
              "    <tr>\n",
              "      <th>1599</th>\n",
              "      <td>8.227083</td>\n",
              "      <td>274.351887</td>\n",
              "      <td>40546.956332</td>\n",
              "      <td>7.130161</td>\n",
              "      <td>241.446917</td>\n",
              "      <td>417.673702</td>\n",
              "      <td>9.809669</td>\n",
              "      <td>79.397105</td>\n",
              "      <td>3.619182</td>\n",
              "    </tr>\n",
              "    <tr>\n",
              "      <th>1361</th>\n",
              "      <td>4.906492</td>\n",
              "      <td>173.779159</td>\n",
              "      <td>14786.138901</td>\n",
              "      <td>5.843757</td>\n",
              "      <td>267.561144</td>\n",
              "      <td>620.346840</td>\n",
              "      <td>7.775896</td>\n",
              "      <td>38.794307</td>\n",
              "      <td>3.152345</td>\n",
              "    </tr>\n",
              "    <tr>\n",
              "      <th>1547</th>\n",
              "      <td>6.217585</td>\n",
              "      <td>203.707222</td>\n",
              "      <td>15597.640883</td>\n",
              "      <td>7.751461</td>\n",
              "      <td>361.247810</td>\n",
              "      <td>452.922025</td>\n",
              "      <td>14.597145</td>\n",
              "      <td>70.850977</td>\n",
              "      <td>4.150167</td>\n",
              "    </tr>\n",
              "    <tr>\n",
              "      <th>863</th>\n",
              "      <td>7.685397</td>\n",
              "      <td>230.335708</td>\n",
              "      <td>7324.701425</td>\n",
              "      <td>7.991366</td>\n",
              "      <td>331.512533</td>\n",
              "      <td>492.850391</td>\n",
              "      <td>14.233952</td>\n",
              "      <td>74.068658</td>\n",
              "      <td>4.179187</td>\n",
              "    </tr>\n",
              "  </tbody>\n",
              "</table>\n",
              "<p>2620 rows × 9 columns</p>\n",
              "</div>\n",
              "      <button class=\"colab-df-convert\" onclick=\"convertToInteractive('df-b1c1834c-7dd9-48dc-80fb-3f9687beab94')\"\n",
              "              title=\"Convert this dataframe to an interactive table.\"\n",
              "              style=\"display:none;\">\n",
              "        \n",
              "  <svg xmlns=\"http://www.w3.org/2000/svg\" height=\"24px\"viewBox=\"0 0 24 24\"\n",
              "       width=\"24px\">\n",
              "    <path d=\"M0 0h24v24H0V0z\" fill=\"none\"/>\n",
              "    <path d=\"M18.56 5.44l.94 2.06.94-2.06 2.06-.94-2.06-.94-.94-2.06-.94 2.06-2.06.94zm-11 1L8.5 8.5l.94-2.06 2.06-.94-2.06-.94L8.5 2.5l-.94 2.06-2.06.94zm10 10l.94 2.06.94-2.06 2.06-.94-2.06-.94-.94-2.06-.94 2.06-2.06.94z\"/><path d=\"M17.41 7.96l-1.37-1.37c-.4-.4-.92-.59-1.43-.59-.52 0-1.04.2-1.43.59L10.3 9.45l-7.72 7.72c-.78.78-.78 2.05 0 2.83L4 21.41c.39.39.9.59 1.41.59.51 0 1.02-.2 1.41-.59l7.78-7.78 2.81-2.81c.8-.78.8-2.07 0-2.86zM5.41 20L4 18.59l7.72-7.72 1.47 1.35L5.41 20z\"/>\n",
              "  </svg>\n",
              "      </button>\n",
              "      \n",
              "  <style>\n",
              "    .colab-df-container {\n",
              "      display:flex;\n",
              "      flex-wrap:wrap;\n",
              "      gap: 12px;\n",
              "    }\n",
              "\n",
              "    .colab-df-convert {\n",
              "      background-color: #E8F0FE;\n",
              "      border: none;\n",
              "      border-radius: 50%;\n",
              "      cursor: pointer;\n",
              "      display: none;\n",
              "      fill: #1967D2;\n",
              "      height: 32px;\n",
              "      padding: 0 0 0 0;\n",
              "      width: 32px;\n",
              "    }\n",
              "\n",
              "    .colab-df-convert:hover {\n",
              "      background-color: #E2EBFA;\n",
              "      box-shadow: 0px 1px 2px rgba(60, 64, 67, 0.3), 0px 1px 3px 1px rgba(60, 64, 67, 0.15);\n",
              "      fill: #174EA6;\n",
              "    }\n",
              "\n",
              "    [theme=dark] .colab-df-convert {\n",
              "      background-color: #3B4455;\n",
              "      fill: #D2E3FC;\n",
              "    }\n",
              "\n",
              "    [theme=dark] .colab-df-convert:hover {\n",
              "      background-color: #434B5C;\n",
              "      box-shadow: 0px 1px 3px 1px rgba(0, 0, 0, 0.15);\n",
              "      filter: drop-shadow(0px 1px 2px rgba(0, 0, 0, 0.3));\n",
              "      fill: #FFFFFF;\n",
              "    }\n",
              "  </style>\n",
              "\n",
              "      <script>\n",
              "        const buttonEl =\n",
              "          document.querySelector('#df-b1c1834c-7dd9-48dc-80fb-3f9687beab94 button.colab-df-convert');\n",
              "        buttonEl.style.display =\n",
              "          google.colab.kernel.accessAllowed ? 'block' : 'none';\n",
              "\n",
              "        async function convertToInteractive(key) {\n",
              "          const element = document.querySelector('#df-b1c1834c-7dd9-48dc-80fb-3f9687beab94');\n",
              "          const dataTable =\n",
              "            await google.colab.kernel.invokeFunction('convertToInteractive',\n",
              "                                                     [key], {});\n",
              "          if (!dataTable) return;\n",
              "\n",
              "          const docLinkHtml = 'Like what you see? Visit the ' +\n",
              "            '<a target=\"_blank\" href=https://colab.research.google.com/notebooks/data_table.ipynb>data table notebook</a>'\n",
              "            + ' to learn more about interactive tables.';\n",
              "          element.innerHTML = '';\n",
              "          dataTable['output_type'] = 'display_data';\n",
              "          await google.colab.output.renderOutput(dataTable, element);\n",
              "          const docLink = document.createElement('div');\n",
              "          docLink.innerHTML = docLinkHtml;\n",
              "          element.appendChild(docLink);\n",
              "        }\n",
              "      </script>\n",
              "    </div>\n",
              "  </div>\n",
              "  "
            ]
          },
          "metadata": {},
          "execution_count": 125
        }
      ]
    },
    {
      "cell_type": "code",
      "source": [
        "Y_train"
      ],
      "metadata": {
        "colab": {
          "base_uri": "https://localhost:8080/"
        },
        "id": "cEsqE_HkgOAk",
        "outputId": "49c59746-0dfd-4a5f-e7cb-75511441aa30"
      },
      "execution_count": 126,
      "outputs": [
        {
          "output_type": "execute_result",
          "data": {
            "text/plain": [
              "748     1\n",
              "2279    0\n",
              "1960    1\n",
              "1491    1\n",
              "2991    0\n",
              "       ..\n",
              "599     0\n",
              "1599    1\n",
              "1361    0\n",
              "1547    1\n",
              "863     0\n",
              "Name: Potability, Length: 2620, dtype: int64"
            ]
          },
          "metadata": {},
          "execution_count": 126
        }
      ]
    },
    {
      "cell_type": "code",
      "source": [
        "X_test"
      ],
      "metadata": {
        "colab": {
          "base_uri": "https://localhost:8080/",
          "height": 424
        },
        "id": "Hjizp5KMgQim",
        "outputId": "94b1005a-6b72-47d2-f87a-a028d35b22f6"
      },
      "execution_count": 127,
      "outputs": [
        {
          "output_type": "execute_result",
          "data": {
            "text/plain": [
              "             ph    Hardness        Solids  Chloramines     Sulfate  \\\n",
              "2541   5.735724  158.318741  25363.016594     7.728601  377.543291   \n",
              "2605   8.445219  228.522860  28966.569327     6.179855  333.775777   \n",
              "330    6.737004  220.100102  24694.744205     8.373660  333.775777   \n",
              "515    5.701155  233.515043  41411.601707     5.895464  310.160545   \n",
              "400    6.259652  208.379430  37356.746401     8.565487  256.473839   \n",
              "...         ...         ...           ...          ...         ...   \n",
              "482    7.705711  178.922858  18476.619166     8.226228  334.889911   \n",
              "2970  10.933111  162.424918  18846.634913     7.085261  333.775777   \n",
              "50     7.080795  168.388431  27492.307307     7.046225  299.820478   \n",
              "839    7.611610  222.252269  25063.683013     8.561124  287.948123   \n",
              "374    8.882684  135.523062   4857.253807     5.209779  333.775777   \n",
              "\n",
              "      Conductivity  Organic_carbon  Trihalomethanes  Turbidity  \n",
              "2541    568.304671       13.626624        75.952337   4.732954  \n",
              "2605    361.705354       14.554220        60.612230   4.400706  \n",
              "330     384.308673        6.748092         8.175876   4.063170  \n",
              "515     509.767888       22.686837        73.751883   3.403136  \n",
              "400     380.240193        5.567693        68.441865   4.213405  \n",
              "...            ...             ...              ...        ...  \n",
              "482     518.043369       10.638798        63.157489   3.861956  \n",
              "2970    593.725764       14.977233        60.690580   3.894989  \n",
              "50      383.795020       16.182066        75.729434   3.048057  \n",
              "839     505.265483       18.273757        68.395413   2.873261  \n",
              "374     532.336659       20.296274        20.337753   3.827921  \n",
              "\n",
              "[656 rows x 9 columns]"
            ],
            "text/html": [
              "\n",
              "  <div id=\"df-1f94fa9b-b52a-4e2e-98ac-e303fe4bffcd\">\n",
              "    <div class=\"colab-df-container\">\n",
              "      <div>\n",
              "<style scoped>\n",
              "    .dataframe tbody tr th:only-of-type {\n",
              "        vertical-align: middle;\n",
              "    }\n",
              "\n",
              "    .dataframe tbody tr th {\n",
              "        vertical-align: top;\n",
              "    }\n",
              "\n",
              "    .dataframe thead th {\n",
              "        text-align: right;\n",
              "    }\n",
              "</style>\n",
              "<table border=\"1\" class=\"dataframe\">\n",
              "  <thead>\n",
              "    <tr style=\"text-align: right;\">\n",
              "      <th></th>\n",
              "      <th>ph</th>\n",
              "      <th>Hardness</th>\n",
              "      <th>Solids</th>\n",
              "      <th>Chloramines</th>\n",
              "      <th>Sulfate</th>\n",
              "      <th>Conductivity</th>\n",
              "      <th>Organic_carbon</th>\n",
              "      <th>Trihalomethanes</th>\n",
              "      <th>Turbidity</th>\n",
              "    </tr>\n",
              "  </thead>\n",
              "  <tbody>\n",
              "    <tr>\n",
              "      <th>2541</th>\n",
              "      <td>5.735724</td>\n",
              "      <td>158.318741</td>\n",
              "      <td>25363.016594</td>\n",
              "      <td>7.728601</td>\n",
              "      <td>377.543291</td>\n",
              "      <td>568.304671</td>\n",
              "      <td>13.626624</td>\n",
              "      <td>75.952337</td>\n",
              "      <td>4.732954</td>\n",
              "    </tr>\n",
              "    <tr>\n",
              "      <th>2605</th>\n",
              "      <td>8.445219</td>\n",
              "      <td>228.522860</td>\n",
              "      <td>28966.569327</td>\n",
              "      <td>6.179855</td>\n",
              "      <td>333.775777</td>\n",
              "      <td>361.705354</td>\n",
              "      <td>14.554220</td>\n",
              "      <td>60.612230</td>\n",
              "      <td>4.400706</td>\n",
              "    </tr>\n",
              "    <tr>\n",
              "      <th>330</th>\n",
              "      <td>6.737004</td>\n",
              "      <td>220.100102</td>\n",
              "      <td>24694.744205</td>\n",
              "      <td>8.373660</td>\n",
              "      <td>333.775777</td>\n",
              "      <td>384.308673</td>\n",
              "      <td>6.748092</td>\n",
              "      <td>8.175876</td>\n",
              "      <td>4.063170</td>\n",
              "    </tr>\n",
              "    <tr>\n",
              "      <th>515</th>\n",
              "      <td>5.701155</td>\n",
              "      <td>233.515043</td>\n",
              "      <td>41411.601707</td>\n",
              "      <td>5.895464</td>\n",
              "      <td>310.160545</td>\n",
              "      <td>509.767888</td>\n",
              "      <td>22.686837</td>\n",
              "      <td>73.751883</td>\n",
              "      <td>3.403136</td>\n",
              "    </tr>\n",
              "    <tr>\n",
              "      <th>400</th>\n",
              "      <td>6.259652</td>\n",
              "      <td>208.379430</td>\n",
              "      <td>37356.746401</td>\n",
              "      <td>8.565487</td>\n",
              "      <td>256.473839</td>\n",
              "      <td>380.240193</td>\n",
              "      <td>5.567693</td>\n",
              "      <td>68.441865</td>\n",
              "      <td>4.213405</td>\n",
              "    </tr>\n",
              "    <tr>\n",
              "      <th>...</th>\n",
              "      <td>...</td>\n",
              "      <td>...</td>\n",
              "      <td>...</td>\n",
              "      <td>...</td>\n",
              "      <td>...</td>\n",
              "      <td>...</td>\n",
              "      <td>...</td>\n",
              "      <td>...</td>\n",
              "      <td>...</td>\n",
              "    </tr>\n",
              "    <tr>\n",
              "      <th>482</th>\n",
              "      <td>7.705711</td>\n",
              "      <td>178.922858</td>\n",
              "      <td>18476.619166</td>\n",
              "      <td>8.226228</td>\n",
              "      <td>334.889911</td>\n",
              "      <td>518.043369</td>\n",
              "      <td>10.638798</td>\n",
              "      <td>63.157489</td>\n",
              "      <td>3.861956</td>\n",
              "    </tr>\n",
              "    <tr>\n",
              "      <th>2970</th>\n",
              "      <td>10.933111</td>\n",
              "      <td>162.424918</td>\n",
              "      <td>18846.634913</td>\n",
              "      <td>7.085261</td>\n",
              "      <td>333.775777</td>\n",
              "      <td>593.725764</td>\n",
              "      <td>14.977233</td>\n",
              "      <td>60.690580</td>\n",
              "      <td>3.894989</td>\n",
              "    </tr>\n",
              "    <tr>\n",
              "      <th>50</th>\n",
              "      <td>7.080795</td>\n",
              "      <td>168.388431</td>\n",
              "      <td>27492.307307</td>\n",
              "      <td>7.046225</td>\n",
              "      <td>299.820478</td>\n",
              "      <td>383.795020</td>\n",
              "      <td>16.182066</td>\n",
              "      <td>75.729434</td>\n",
              "      <td>3.048057</td>\n",
              "    </tr>\n",
              "    <tr>\n",
              "      <th>839</th>\n",
              "      <td>7.611610</td>\n",
              "      <td>222.252269</td>\n",
              "      <td>25063.683013</td>\n",
              "      <td>8.561124</td>\n",
              "      <td>287.948123</td>\n",
              "      <td>505.265483</td>\n",
              "      <td>18.273757</td>\n",
              "      <td>68.395413</td>\n",
              "      <td>2.873261</td>\n",
              "    </tr>\n",
              "    <tr>\n",
              "      <th>374</th>\n",
              "      <td>8.882684</td>\n",
              "      <td>135.523062</td>\n",
              "      <td>4857.253807</td>\n",
              "      <td>5.209779</td>\n",
              "      <td>333.775777</td>\n",
              "      <td>532.336659</td>\n",
              "      <td>20.296274</td>\n",
              "      <td>20.337753</td>\n",
              "      <td>3.827921</td>\n",
              "    </tr>\n",
              "  </tbody>\n",
              "</table>\n",
              "<p>656 rows × 9 columns</p>\n",
              "</div>\n",
              "      <button class=\"colab-df-convert\" onclick=\"convertToInteractive('df-1f94fa9b-b52a-4e2e-98ac-e303fe4bffcd')\"\n",
              "              title=\"Convert this dataframe to an interactive table.\"\n",
              "              style=\"display:none;\">\n",
              "        \n",
              "  <svg xmlns=\"http://www.w3.org/2000/svg\" height=\"24px\"viewBox=\"0 0 24 24\"\n",
              "       width=\"24px\">\n",
              "    <path d=\"M0 0h24v24H0V0z\" fill=\"none\"/>\n",
              "    <path d=\"M18.56 5.44l.94 2.06.94-2.06 2.06-.94-2.06-.94-.94-2.06-.94 2.06-2.06.94zm-11 1L8.5 8.5l.94-2.06 2.06-.94-2.06-.94L8.5 2.5l-.94 2.06-2.06.94zm10 10l.94 2.06.94-2.06 2.06-.94-2.06-.94-.94-2.06-.94 2.06-2.06.94z\"/><path d=\"M17.41 7.96l-1.37-1.37c-.4-.4-.92-.59-1.43-.59-.52 0-1.04.2-1.43.59L10.3 9.45l-7.72 7.72c-.78.78-.78 2.05 0 2.83L4 21.41c.39.39.9.59 1.41.59.51 0 1.02-.2 1.41-.59l7.78-7.78 2.81-2.81c.8-.78.8-2.07 0-2.86zM5.41 20L4 18.59l7.72-7.72 1.47 1.35L5.41 20z\"/>\n",
              "  </svg>\n",
              "      </button>\n",
              "      \n",
              "  <style>\n",
              "    .colab-df-container {\n",
              "      display:flex;\n",
              "      flex-wrap:wrap;\n",
              "      gap: 12px;\n",
              "    }\n",
              "\n",
              "    .colab-df-convert {\n",
              "      background-color: #E8F0FE;\n",
              "      border: none;\n",
              "      border-radius: 50%;\n",
              "      cursor: pointer;\n",
              "      display: none;\n",
              "      fill: #1967D2;\n",
              "      height: 32px;\n",
              "      padding: 0 0 0 0;\n",
              "      width: 32px;\n",
              "    }\n",
              "\n",
              "    .colab-df-convert:hover {\n",
              "      background-color: #E2EBFA;\n",
              "      box-shadow: 0px 1px 2px rgba(60, 64, 67, 0.3), 0px 1px 3px 1px rgba(60, 64, 67, 0.15);\n",
              "      fill: #174EA6;\n",
              "    }\n",
              "\n",
              "    [theme=dark] .colab-df-convert {\n",
              "      background-color: #3B4455;\n",
              "      fill: #D2E3FC;\n",
              "    }\n",
              "\n",
              "    [theme=dark] .colab-df-convert:hover {\n",
              "      background-color: #434B5C;\n",
              "      box-shadow: 0px 1px 3px 1px rgba(0, 0, 0, 0.15);\n",
              "      filter: drop-shadow(0px 1px 2px rgba(0, 0, 0, 0.3));\n",
              "      fill: #FFFFFF;\n",
              "    }\n",
              "  </style>\n",
              "\n",
              "      <script>\n",
              "        const buttonEl =\n",
              "          document.querySelector('#df-1f94fa9b-b52a-4e2e-98ac-e303fe4bffcd button.colab-df-convert');\n",
              "        buttonEl.style.display =\n",
              "          google.colab.kernel.accessAllowed ? 'block' : 'none';\n",
              "\n",
              "        async function convertToInteractive(key) {\n",
              "          const element = document.querySelector('#df-1f94fa9b-b52a-4e2e-98ac-e303fe4bffcd');\n",
              "          const dataTable =\n",
              "            await google.colab.kernel.invokeFunction('convertToInteractive',\n",
              "                                                     [key], {});\n",
              "          if (!dataTable) return;\n",
              "\n",
              "          const docLinkHtml = 'Like what you see? Visit the ' +\n",
              "            '<a target=\"_blank\" href=https://colab.research.google.com/notebooks/data_table.ipynb>data table notebook</a>'\n",
              "            + ' to learn more about interactive tables.';\n",
              "          element.innerHTML = '';\n",
              "          dataTable['output_type'] = 'display_data';\n",
              "          await google.colab.output.renderOutput(dataTable, element);\n",
              "          const docLink = document.createElement('div');\n",
              "          docLink.innerHTML = docLinkHtml;\n",
              "          element.appendChild(docLink);\n",
              "        }\n",
              "      </script>\n",
              "    </div>\n",
              "  </div>\n",
              "  "
            ]
          },
          "metadata": {},
          "execution_count": 127
        }
      ]
    },
    {
      "cell_type": "code",
      "source": [
        "Y_test"
      ],
      "metadata": {
        "colab": {
          "base_uri": "https://localhost:8080/"
        },
        "id": "j-wzQ04SgVQO",
        "outputId": "7b85111b-cdbf-4c45-93fe-86314986e203"
      },
      "execution_count": 128,
      "outputs": [
        {
          "output_type": "execute_result",
          "data": {
            "text/plain": [
              "2541    0\n",
              "2605    0\n",
              "330     1\n",
              "515     0\n",
              "400     1\n",
              "       ..\n",
              "482     0\n",
              "2970    0\n",
              "50      0\n",
              "839     0\n",
              "374     1\n",
              "Name: Potability, Length: 656, dtype: int64"
            ]
          },
          "metadata": {},
          "execution_count": 128
        }
      ]
    },
    {
      "cell_type": "code",
      "source": [
        "X_test.shape"
      ],
      "metadata": {
        "colab": {
          "base_uri": "https://localhost:8080/"
        },
        "id": "GZxMqlC4gWPR",
        "outputId": "1f4facb3-3de0-4d6e-fac9-a137bb12acca"
      },
      "execution_count": 141,
      "outputs": [
        {
          "output_type": "execute_result",
          "data": {
            "text/plain": [
              "(656, 9)"
            ]
          },
          "metadata": {},
          "execution_count": 141
        }
      ]
    },
    {
      "cell_type": "code",
      "source": [
        "Y_test.shape"
      ],
      "metadata": {
        "colab": {
          "base_uri": "https://localhost:8080/"
        },
        "id": "2BVobMB2ln_F",
        "outputId": "8d7d00b7-7bfa-40bc-e1f7-028bdbe3d315"
      },
      "execution_count": 142,
      "outputs": [
        {
          "output_type": "execute_result",
          "data": {
            "text/plain": [
              "(656,)"
            ]
          },
          "metadata": {},
          "execution_count": 142
        }
      ]
    },
    {
      "cell_type": "code",
      "source": [
        "Y_train.shape"
      ],
      "metadata": {
        "colab": {
          "base_uri": "https://localhost:8080/"
        },
        "id": "HcQZVIWvloEX",
        "outputId": "b6ababa7-87c0-464b-eb55-a1a4887e24f2"
      },
      "execution_count": 143,
      "outputs": [
        {
          "output_type": "execute_result",
          "data": {
            "text/plain": [
              "(2620,)"
            ]
          },
          "metadata": {},
          "execution_count": 143
        }
      ]
    },
    {
      "cell_type": "code",
      "source": [
        "X_train.shape"
      ],
      "metadata": {
        "colab": {
          "base_uri": "https://localhost:8080/"
        },
        "id": "YmY5tb0XluKn",
        "outputId": "ce3f4602-c195-4c2c-bb09-2d9f3434de1f"
      },
      "execution_count": 144,
      "outputs": [
        {
          "output_type": "execute_result",
          "data": {
            "text/plain": [
              "(2620, 9)"
            ]
          },
          "metadata": {},
          "execution_count": 144
        }
      ]
    },
    {
      "cell_type": "code",
      "source": [],
      "metadata": {
        "id": "Q1ZtgvGqloUj"
      },
      "execution_count": null,
      "outputs": []
    },
    {
      "cell_type": "markdown",
      "source": [
        "# Model Training\n",
        "\n",
        "Following are the list of algorithms that are used in this notebook.\n",
        "* Logistic Regression\n",
        "* Decision Tree\n",
        "* Random Forest\n",
        "* XGBoost\n",
        "* KNeighbours\n",
        "* SVM\n",
        "* AdaBoost"
      ],
      "metadata": {
        "id": "wCm6QE0JgjFi"
      }
    },
    {
      "cell_type": "markdown",
      "source": [
        "This model is an eg. of classifiaction problem so we mainly use classification algorithm with our each train data and then predict the data with respect to the test values in every algorithm"
      ],
      "metadata": {
        "id": "tDaNNNP5g0_m"
      }
    },
    {
      "cell_type": "markdown",
      "source": [
        "#1. Decision Trees"
      ],
      "metadata": {
        "id": "fAOWcq4DhZNa"
      }
    },
    {
      "cell_type": "code",
      "source": [
        "from sklearn.tree import DecisionTreeClassifier"
      ],
      "metadata": {
        "id": "46Inxf2shLoL"
      },
      "execution_count": 129,
      "outputs": []
    },
    {
      "cell_type": "code",
      "source": [
        "dt = DecisionTreeClassifier()"
      ],
      "metadata": {
        "id": "QuT5QzLOiUGw"
      },
      "execution_count": 131,
      "outputs": []
    },
    {
      "cell_type": "code",
      "source": [
        "# Training Model\n",
        "dt.fit(X_train,Y_train)"
      ],
      "metadata": {
        "colab": {
          "base_uri": "https://localhost:8080/"
        },
        "id": "ZDe1oTHkhu0G",
        "outputId": "3bb36a77-9a6f-4e69-f505-31d8d3898e88"
      },
      "execution_count": 135,
      "outputs": [
        {
          "output_type": "execute_result",
          "data": {
            "text/plain": [
              "DecisionTreeClassifier()"
            ]
          },
          "metadata": {},
          "execution_count": 135
        }
      ]
    },
    {
      "cell_type": "code",
      "source": [
        "# Making Prediction\n",
        "dt_predict = dt.predict(X_test)"
      ],
      "metadata": {
        "id": "Dn_gPLGMiK4Q"
      },
      "execution_count": 136,
      "outputs": []
    },
    {
      "cell_type": "code",
      "source": [
        "from sklearn.metrics import accuracy_score, confusion_matrix"
      ],
      "metadata": {
        "id": "zqxpOwpzilY1"
      },
      "execution_count": 137,
      "outputs": []
    },
    {
      "cell_type": "code",
      "source": [
        "# Calculating accuracy scores"
      ],
      "metadata": {
        "id": "HHBnRmdbivIs"
      },
      "execution_count": 138,
      "outputs": []
    },
    {
      "cell_type": "code",
      "source": [
        "dt_acc = accuracy_score(Y_test,dt_predict)\n",
        "dt_acc"
      ],
      "metadata": {
        "colab": {
          "base_uri": "https://localhost:8080/"
        },
        "id": "WWLMpG9Ki38z",
        "outputId": "b4b1f294-da16-4724-cf77-1eeafd18891b"
      },
      "execution_count": 139,
      "outputs": [
        {
          "output_type": "execute_result",
          "data": {
            "text/plain": [
              "0.5807926829268293"
            ]
          },
          "metadata": {},
          "execution_count": 139
        }
      ]
    },
    {
      "cell_type": "code",
      "source": [
        "# Confusion Matrix "
      ],
      "metadata": {
        "id": "GlV8zAY4kvQn"
      },
      "execution_count": 140,
      "outputs": []
    },
    {
      "cell_type": "markdown",
      "source": [
        "![1_3yGLac6F4mTENnj5dBNvNQ.jpeg](data:image/jpeg;base64,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)\n",
        "\n",
        "What is Confusion Matrix and why you need it? Well, it is a performance measurement for machine learning classification problem where output can be two or more classes. It is a table with 4 different combinations of predicted and actual values."
      ],
      "metadata": {
        "id": "hbAvaYaYme8F"
      }
    },
    {
      "cell_type": "code",
      "source": [
        "cm1 = confusion_matrix(Y_test,dt_predict)\n",
        "sns.heatmap(cm1/np.sum(cm1), annot = True, fmt=  '0.2%', cmap = 'Reds')\n",
        "plt.show()"
      ],
      "metadata": {
        "colab": {
          "base_uri": "https://localhost:8080/",
          "height": 268
        },
        "id": "JhMfMcuPlcRe",
        "outputId": "01caff03-d764-4c80-be64-7cc8bb32b6bd"
      },
      "execution_count": 149,
      "outputs": [
        {
          "output_type": "display_data",
          "data": {
            "text/plain": [
              "<Figure size 432x288 with 2 Axes>"
            ],
            "image/png": "[encoded data removed]"
          },
          "metadata": {
            "needs_background": "light"
          }
        }
      ]
    },
    {
      "cell_type": "code",
      "source": [
        "confusion_matrix(Y_test,dt_predict)"
      ],
      "metadata": {
        "colab": {
          "base_uri": "https://localhost:8080/"
        },
        "id": "lqFjamfonYXF",
        "outputId": "eae09b3b-00a7-48a4-9963-ae883863cbcb"
      },
      "execution_count": 148,
      "outputs": [
        {
          "output_type": "execute_result",
          "data": {
            "text/plain": [
              "array([[263, 139],\n",
              "       [136, 118]])"
            ]
          },
          "metadata": {},
          "execution_count": 148
        }
      ]
    },
    {
      "cell_type": "code",
      "source": [
        "# confusion matrix -> false +ve, false -ve , true +ve, true -ve"
      ],
      "metadata": {
        "id": "vxEQ48VZnqOf"
      },
      "execution_count": 150,
      "outputs": []
    },
    {
      "cell_type": "code",
      "source": [],
      "metadata": {
        "id": "N8wEJThvn7YL"
      },
      "execution_count": null,
      "outputs": []
    },
    {
      "cell_type": "markdown",
      "source": [
        "# 2.Logistic Regression"
      ],
      "metadata": {
        "id": "6WGS50MCoZ4b"
      }
    },
    {
      "cell_type": "code",
      "source": [
        "from sklearn.linear_model import LogisticRegression"
      ],
      "metadata": {
        "id": "W9J29jqeombs"
      },
      "execution_count": 151,
      "outputs": []
    },
    {
      "cell_type": "code",
      "source": [
        "lg = LogisticRegression()"
      ],
      "metadata": {
        "id": "zL11T5dEq8ER"
      },
      "execution_count": 152,
      "outputs": []
    },
    {
      "cell_type": "code",
      "source": [
        "# Training Model\n",
        "lg.fit(X_train,Y_train)"
      ],
      "metadata": {
        "colab": {
          "base_uri": "https://localhost:8080/"
        },
        "id": "-olCjA3frJ6d",
        "outputId": "be5994c6-13d3-4051-8075-98eacc5ad22e"
      },
      "execution_count": 154,
      "outputs": [
        {
          "output_type": "execute_result",
          "data": {
            "text/plain": [
              "LogisticRegression()"
            ]
          },
          "metadata": {},
          "execution_count": 154
        }
      ]
    },
    {
      "cell_type": "code",
      "source": [
        "# Making Prediction\n",
        "lg_predict = lg.predict(X_test)"
      ],
      "metadata": {
        "id": "FjFJXIserfEU"
      },
      "execution_count": 155,
      "outputs": []
    },
    {
      "cell_type": "code",
      "source": [
        "# Calculating accuracy scores\n",
        "lg_acc = accuracy_score(Y_test,lg_predict)\n",
        "lg_acc"
      ],
      "metadata": {
        "colab": {
          "base_uri": "https://localhost:8080/"
        },
        "id": "GN_kEIU9sAPn",
        "outputId": "4913b4e6-b8c5-4606-f129-e32d48c72d3f"
      },
      "execution_count": 157,
      "outputs": [
        {
          "output_type": "execute_result",
          "data": {
            "text/plain": [
              "0.6128048780487805"
            ]
          },
          "metadata": {},
          "execution_count": 157
        }
      ]
    },
    {
      "cell_type": "code",
      "source": [
        "cm2 = confusion_matrix(Y_test,lg_predict)\n",
        "sns.heatmap(cm2/np.sum(cm2), annot = True, fmt=  '0.2%', cmap = 'Reds')\n",
        "plt.show()"
      ],
      "metadata": {
        "colab": {
          "base_uri": "https://localhost:8080/",
          "height": 265
        },
        "id": "lMpi68nksFf8",
        "outputId": "e1876c55-59e3-44a5-aaee-775b58636c42"
      },
      "execution_count": 159,
      "outputs": [
        {
          "output_type": "display_data",
          "data": {
            "text/plain": [
              "<Figure size 432x288 with 2 Axes>"
            ],
            "image/png": "[encoded data removed]"
          },
          "metadata": {
            "needs_background": "light"
          }
        }
      ]
    },
    {
      "cell_type": "code",
      "source": [
        "confusion_matrix(Y_test,lg_predict)"
      ],
      "metadata": {
        "colab": {
          "base_uri": "https://localhost:8080/"
        },
        "id": "5O220e_OsjrY",
        "outputId": "c6bccd25-290d-43b0-9cd4-145b6eb0de9d"
      },
      "execution_count": 160,
      "outputs": [
        {
          "output_type": "execute_result",
          "data": {
            "text/plain": [
              "array([[402,   0],\n",
              "       [254,   0]])"
            ]
          },
          "metadata": {},
          "execution_count": 160
        }
      ]
    },
    {
      "cell_type": "code",
      "source": [],
      "metadata": {
        "id": "Jb2UCLJnssQr"
      },
      "execution_count": null,
      "outputs": []
    },
    {
      "cell_type": "markdown",
      "source": [
        "# 3. Random Forest"
      ],
      "metadata": {
        "id": "v6sO96llt67M"
      }
    },
    {
      "cell_type": "code",
      "source": [
        "from sklearn.ensemble import RandomForestClassifier"
      ],
      "metadata": {
        "id": "Kq9g87hEuAg7"
      },
      "execution_count": 161,
      "outputs": []
    },
    {
      "cell_type": "code",
      "source": [
        "rf = RandomForestClassifier()"
      ],
      "metadata": {
        "id": "_ro0o3XbuwPQ"
      },
      "execution_count": 162,
      "outputs": []
    },
    {
      "cell_type": "code",
      "source": [
        "# Training Model\n",
        "rf.fit(X_train,Y_train)"
      ],
      "metadata": {
        "colab": {
          "base_uri": "https://localhost:8080/"
        },
        "id": "7HTQrkxhuy0h",
        "outputId": "fdcaa75c-1db2-47df-c41d-85295e5698be"
      },
      "execution_count": 164,
      "outputs": [
        {
          "output_type": "execute_result",
          "data": {
            "text/plain": [
              "RandomForestClassifier()"
            ]
          },
          "metadata": {},
          "execution_count": 164
        }
      ]
    },
    {
      "cell_type": "code",
      "source": [
        "# Making Prediction\n",
        "rf_predict = rf.predict(X_test)"
      ],
      "metadata": {
        "id": "nHb8tGVau84G"
      },
      "execution_count": 165,
      "outputs": []
    },
    {
      "cell_type": "code",
      "source": [
        "# Calculating Accuracy\n",
        "rf_acc = accuracy_score(Y_test,rf_predict)\n",
        "rf_acc"
      ],
      "metadata": {
        "colab": {
          "base_uri": "https://localhost:8080/"
        },
        "id": "USmWBf9Yvax0",
        "outputId": "0ab7c3ab-105a-4663-d09c-5fbe32f804b1"
      },
      "execution_count": 171,
      "outputs": [
        {
          "output_type": "execute_result",
          "data": {
            "text/plain": [
              "0.6875"
            ]
          },
          "metadata": {},
          "execution_count": 171
        }
      ]
    },
    {
      "cell_type": "code",
      "source": [
        "cm3 = confusion_matrix(Y_test,rf_predict)\n",
        "sns.heatmap(cm3/np.sum(cm3), annot = True, fmt=  '0.2%', cmap = 'Reds')\n",
        "plt.show()"
      ],
      "metadata": {
        "colab": {
          "base_uri": "https://localhost:8080/",
          "height": 265
        },
        "id": "kpTtZ9jTv0os",
        "outputId": "4f322a9e-067c-4a68-e413-34acf1ab025d"
      },
      "execution_count": 172,
      "outputs": [
        {
          "output_type": "display_data",
          "data": {
            "text/plain": [
              "<Figure size 432x288 with 2 Axes>"
            ],
            "image/png": "[encoded data removed]"
          },
          "metadata": {
            "needs_background": "light"
          }
        }
      ]
    },
    {
      "cell_type": "code",
      "source": [
        "confusion_matrix(Y_test,rf_predict)"
      ],
      "metadata": {
        "colab": {
          "base_uri": "https://localhost:8080/"
        },
        "id": "utqx9Jfiv_xb",
        "outputId": "7190e4c9-c0d4-4777-8a85-47906b8d155f"
      },
      "execution_count": 169,
      "outputs": [
        {
          "output_type": "execute_result",
          "data": {
            "text/plain": [
              "array([[354,  48],\n",
              "       [157,  97]])"
            ]
          },
          "metadata": {},
          "execution_count": 169
        }
      ]
    },
    {
      "cell_type": "code",
      "source": [],
      "metadata": {
        "id": "bCP0JQqGwF_Z"
      },
      "execution_count": null,
      "outputs": []
    },
    {
      "cell_type": "markdown",
      "source": [
        "# 4. XGBoost Classifier"
      ],
      "metadata": {
        "id": "oSCkqDbZwdQq"
      }
    },
    {
      "cell_type": "code",
      "source": [
        "from xgboost import XGBClassifier"
      ],
      "metadata": {
        "id": "nCMSyknKwoNZ"
      },
      "execution_count": 173,
      "outputs": []
    },
    {
      "cell_type": "code",
      "source": [
        "xgb = XGBClassifier()"
      ],
      "metadata": {
        "id": "5MJlEQh2wrGd"
      },
      "execution_count": 174,
      "outputs": []
    },
    {
      "cell_type": "code",
      "source": [
        "# Training Model\n",
        "xgb.fit(X_train,Y_train)"
      ],
      "metadata": {
        "colab": {
          "base_uri": "https://localhost:8080/"
        },
        "id": "8UkTcajxwwuf",
        "outputId": "5fcfcf9d-967b-4968-bc90-e8a796c6603b"
      },
      "execution_count": 175,
      "outputs": [
        {
          "output_type": "execute_result",
          "data": {
            "text/plain": [
              "XGBClassifier()"
            ]
          },
          "metadata": {},
          "execution_count": 175
        }
      ]
    },
    {
      "cell_type": "code",
      "source": [
        "# Making Predictions\n",
        "xgb_predict = xgb.predict(X_test)"
      ],
      "metadata": {
        "id": "jLlwbZDYw-yn"
      },
      "execution_count": 177,
      "outputs": []
    },
    {
      "cell_type": "code",
      "source": [
        "# Calculating Accuracy\n",
        "\n",
        "xgb_acc = accuracy_score(Y_test,xgb_predict)\n",
        "xgb_acc"
      ],
      "metadata": {
        "colab": {
          "base_uri": "https://localhost:8080/"
        },
        "id": "qjn-MPCExP8R",
        "outputId": "8505015a-0a80-4417-9c72-7b23d03dcf9f"
      },
      "execution_count": 178,
      "outputs": [
        {
          "output_type": "execute_result",
          "data": {
            "text/plain": [
              "0.6615853658536586"
            ]
          },
          "metadata": {},
          "execution_count": 178
        }
      ]
    },
    {
      "cell_type": "code",
      "source": [
        "cm4 = confusion_matrix(Y_test,xgb_predict)\n",
        "sns.heatmap(cm4/np.sum(cm4), annot = True, fmt=  '0.2%', cmap = 'Reds')\n",
        "plt.show()"
      ],
      "metadata": {
        "colab": {
          "base_uri": "https://localhost:8080/",
          "height": 265
        },
        "id": "UZqOVU92xrcP",
        "outputId": "d9e18f79-2447-479c-f11b-30a68555da5e"
      },
      "execution_count": 179,
      "outputs": [
        {
          "output_type": "display_data",
          "data": {
            "text/plain": [
              "<Figure size 432x288 with 2 Axes>"
            ],
            "image/png": "[encoded data removed]"
          },
          "metadata": {
            "needs_background": "light"
          }
        }
      ]
    },
    {
      "cell_type": "code",
      "source": [
        "confusion_matrix(Y_test,xgb_predict)"
      ],
      "metadata": {
        "colab": {
          "base_uri": "https://localhost:8080/"
        },
        "id": "PUZWA_d5xzGL",
        "outputId": "8d017a2b-a1e0-4593-ae0a-38bd3fba8b18"
      },
      "execution_count": 180,
      "outputs": [
        {
          "output_type": "execute_result",
          "data": {
            "text/plain": [
              "array([[361,  41],\n",
              "       [181,  73]])"
            ]
          },
          "metadata": {},
          "execution_count": 180
        }
      ]
    },
    {
      "cell_type": "code",
      "source": [],
      "metadata": {
        "id": "kcUrgdzXx98D"
      },
      "execution_count": null,
      "outputs": []
    },
    {
      "cell_type": "markdown",
      "source": [
        "# 5. KNeighbors Classifier"
      ],
      "metadata": {
        "id": "Y4kVOJJsyAPE"
      }
    },
    {
      "cell_type": "code",
      "source": [
        "from sklearn.neighbors import KNeighborsClassifier"
      ],
      "metadata": {
        "id": "akcfTsSDyFlr"
      },
      "execution_count": 181,
      "outputs": []
    },
    {
      "cell_type": "code",
      "source": [
        "kn = KNeighborsClassifier()"
      ],
      "metadata": {
        "id": "odBhXsPMyRi8"
      },
      "execution_count": 182,
      "outputs": []
    },
    {
      "cell_type": "code",
      "source": [
        "# Training Model\n",
        "kn.fit(X_train,Y_train)"
      ],
      "metadata": {
        "colab": {
          "base_uri": "https://localhost:8080/"
        },
        "id": "CTKNpb_Ayr4X",
        "outputId": "57e62020-65b2-4658-bd72-e0c3bbc863a0"
      },
      "execution_count": 183,
      "outputs": [
        {
          "output_type": "execute_result",
          "data": {
            "text/plain": [
              "KNeighborsClassifier()"
            ]
          },
          "metadata": {},
          "execution_count": 183
        }
      ]
    },
    {
      "cell_type": "code",
      "source": [
        "# Making Predictions\n",
        "kn_predict = kn.predict(X_test)"
      ],
      "metadata": {
        "id": "TpDp84uay6d6"
      },
      "execution_count": 184,
      "outputs": []
    },
    {
      "cell_type": "code",
      "source": [
        "# Calculating accuracy scores\n",
        "kn_acc = accuracy_score(Y_test,kn_predict)\n",
        "kn_acc"
      ],
      "metadata": {
        "colab": {
          "base_uri": "https://localhost:8080/"
        },
        "id": "hElJbwFizHfv",
        "outputId": "43aeecc8-f210-4c5d-c887-4ea73e7035f2"
      },
      "execution_count": 185,
      "outputs": [
        {
          "output_type": "execute_result",
          "data": {
            "text/plain": [
              "0.5701219512195121"
            ]
          },
          "metadata": {},
          "execution_count": 185
        }
      ]
    },
    {
      "cell_type": "code",
      "source": [
        "cm5 = confusion_matrix(Y_test,kn_predict)\n",
        "sns.heatmap(cm5/np.sum(cm5), annot = True, fmt=  '0.2%', cmap = 'Reds')\n",
        "plt.show()"
      ],
      "metadata": {
        "colab": {
          "base_uri": "https://localhost:8080/",
          "height": 265
        },
        "id": "WB0FeF3rznX9",
        "outputId": "aa69faf1-2c44-4039-b793-aa0f7e982101"
      },
      "execution_count": 186,
      "outputs": [
        {
          "output_type": "display_data",
          "data": {
            "text/plain": [
              "<Figure size 432x288 with 2 Axes>"
            ],
            "image/png": "[encoded data removed]"
          },
          "metadata": {
            "needs_background": "light"
          }
        }
      ]
    },
    {
      "cell_type": "code",
      "source": [
        "confusion_matrix(Y_test,kn_predict)"
      ],
      "metadata": {
        "colab": {
          "base_uri": "https://localhost:8080/"
        },
        "id": "lQB6tJr3zthg",
        "outputId": "91c40a56-8fe4-4739-da6b-50e6d9c08e11"
      },
      "execution_count": 187,
      "outputs": [
        {
          "output_type": "execute_result",
          "data": {
            "text/plain": [
              "array([[300, 102],\n",
              "       [180,  74]])"
            ]
          },
          "metadata": {},
          "execution_count": 187
        }
      ]
    },
    {
      "cell_type": "code",
      "source": [],
      "metadata": {
        "id": "KXWxKAvTz-Ge"
      },
      "execution_count": null,
      "outputs": []
    },
    {
      "cell_type": "markdown",
      "source": [
        "# 6. SVM"
      ],
      "metadata": {
        "id": "nN0sxMkd0Akp"
      }
    },
    {
      "cell_type": "code",
      "source": [
        "from sklearn.svm import SVC, LinearSVC"
      ],
      "metadata": {
        "id": "zdH9zhSw0G7h"
      },
      "execution_count": 188,
      "outputs": []
    },
    {
      "cell_type": "code",
      "source": [
        "svm = SVC()"
      ],
      "metadata": {
        "id": "ViLTlx260JLw"
      },
      "execution_count": 189,
      "outputs": []
    },
    {
      "cell_type": "code",
      "source": [
        "# Training Model\n",
        "svm.fit(X_train,Y_train)"
      ],
      "metadata": {
        "colab": {
          "base_uri": "https://localhost:8080/"
        },
        "id": "qCv4dHpD0K_c",
        "outputId": "3ab41848-55fc-41dc-b6d5-9280108fb1c8"
      },
      "execution_count": 190,
      "outputs": [
        {
          "output_type": "execute_result",
          "data": {
            "text/plain": [
              "SVC()"
            ]
          },
          "metadata": {},
          "execution_count": 190
        }
      ]
    },
    {
      "cell_type": "code",
      "source": [
        "# Making Predictions\n",
        "svm_predict = svm.predict(X_test)"
      ],
      "metadata": {
        "id": "YgsFscUf0kGj"
      },
      "execution_count": 191,
      "outputs": []
    },
    {
      "cell_type": "code",
      "source": [
        "# Calculating accuracy scores\n",
        "svm_acc = accuracy_score(Y_test,svm_predict)\n",
        "svm_acc"
      ],
      "metadata": {
        "colab": {
          "base_uri": "https://localhost:8080/"
        },
        "id": "DSaZzUAT0qxW",
        "outputId": "6cb5e7eb-a22c-41e2-b14e-c87e01678f45"
      },
      "execution_count": 194,
      "outputs": [
        {
          "output_type": "execute_result",
          "data": {
            "text/plain": [
              "0.6128048780487805"
            ]
          },
          "metadata": {},
          "execution_count": 194
        }
      ]
    },
    {
      "cell_type": "code",
      "source": [
        "cm6 = confusion_matrix(Y_test,svm_predict)\n",
        "sns.heatmap(cm6/np.sum(cm6), annot = True, fmt=  '0.2%', cmap = 'Reds')\n",
        "plt.show()"
      ],
      "metadata": {
        "colab": {
          "base_uri": "https://localhost:8080/",
          "height": 265
        },
        "id": "mNRkr_8t0tcx",
        "outputId": "c46570f0-4216-4384-86e0-04a23cfc2c33"
      },
      "execution_count": 195,
      "outputs": [
        {
          "output_type": "display_data",
          "data": {
            "text/plain": [
              "<Figure size 432x288 with 2 Axes>"
            ],
            "image/png": "[encoded data removed]"
          },
          "metadata": {
            "needs_background": "light"
          }
        }
      ]
    },
    {
      "cell_type": "code",
      "source": [
        "confusion_matrix(Y_test,svm_predict)"
      ],
      "metadata": {
        "colab": {
          "base_uri": "https://localhost:8080/"
        },
        "id": "ohlFR68M1LOw",
        "outputId": "a7a20cab-7922-40ca-9d97-9027ca3b2a37"
      },
      "execution_count": 196,
      "outputs": [
        {
          "output_type": "execute_result",
          "data": {
            "text/plain": [
              "array([[402,   0],\n",
              "       [254,   0]])"
            ]
          },
          "metadata": {},
          "execution_count": 196
        }
      ]
    },
    {
      "cell_type": "code",
      "source": [],
      "metadata": {
        "id": "cTgkapyT1TCl"
      },
      "execution_count": null,
      "outputs": []
    },
    {
      "cell_type": "markdown",
      "source": [
        "# 7. AdaBoost Classifier"
      ],
      "metadata": {
        "id": "ovBsl7M41Tng"
      }
    },
    {
      "cell_type": "code",
      "source": [
        "from sklearn.ensemble import AdaBoostClassifier"
      ],
      "metadata": {
        "id": "Z-C66kzL1Xdj"
      },
      "execution_count": 197,
      "outputs": []
    },
    {
      "cell_type": "code",
      "source": [
        "ada = AdaBoostClassifier()"
      ],
      "metadata": {
        "id": "eIWXL-wG1aIB"
      },
      "execution_count": 198,
      "outputs": []
    },
    {
      "cell_type": "code",
      "source": [
        "# Training Model\n",
        "ada.fit(X_train,Y_train)"
      ],
      "metadata": {
        "colab": {
          "base_uri": "https://localhost:8080/"
        },
        "id": "3l-3-BjO1fVK",
        "outputId": "22552bcc-8da5-4ad6-b29d-00eb5200f608"
      },
      "execution_count": 199,
      "outputs": [
        {
          "output_type": "execute_result",
          "data": {
            "text/plain": [
              "AdaBoostClassifier()"
            ]
          },
          "metadata": {},
          "execution_count": 199
        }
      ]
    },
    {
      "cell_type": "code",
      "source": [
        "# Making Predictions\n",
        "ada_predict = ada.predict(X_test)"
      ],
      "metadata": {
        "id": "RxPUnl6p1w8Q"
      },
      "execution_count": 200,
      "outputs": []
    },
    {
      "cell_type": "code",
      "source": [
        "# Calclating accuracy scores\n",
        "ada_acc = accuracy_score(Y_test,ada_predict)\n",
        "ada_acc"
      ],
      "metadata": {
        "colab": {
          "base_uri": "https://localhost:8080/"
        },
        "id": "amoYAHWD16wz",
        "outputId": "992eb7d4-8212-47e3-803d-75bb5e018176"
      },
      "execution_count": 202,
      "outputs": [
        {
          "output_type": "execute_result",
          "data": {
            "text/plain": [
              "0.6158536585365854"
            ]
          },
          "metadata": {},
          "execution_count": 202
        }
      ]
    },
    {
      "cell_type": "code",
      "source": [
        "cm7 = confusion_matrix(Y_test,ada_predict)\n",
        "sns.heatmap(cm7/np.sum(cm7), annot = True, fmt=  '0.2%', cmap = 'Reds')\n",
        "plt.show()"
      ],
      "metadata": {
        "colab": {
          "base_uri": "https://localhost:8080/",
          "height": 265
        },
        "id": "FfSGLwJc1-mv",
        "outputId": "fe2dfe00-0bdb-44ce-b3d9-fbe4f56bd006"
      },
      "execution_count": 203,
      "outputs": [
        {
          "output_type": "display_data",
          "data": {
            "text/plain": [
              "<Figure size 432x288 with 2 Axes>"
            ],
            "image/png": "[encoded data removed]"
          },
          "metadata": {
            "needs_background": "light"
          }
        }
      ]
    },
    {
      "cell_type": "code",
      "source": [
        "confusion_matrix(Y_test,ada_predict)"
      ],
      "metadata": {
        "colab": {
          "base_uri": "https://localhost:8080/"
        },
        "id": "z9foxV4a2OiB",
        "outputId": "7449fc2d-58f1-4c5c-b0f0-0473f4241226"
      },
      "execution_count": 204,
      "outputs": [
        {
          "output_type": "execute_result",
          "data": {
            "text/plain": [
              "array([[345,  57],\n",
              "       [195,  59]])"
            ]
          },
          "metadata": {},
          "execution_count": 204
        }
      ]
    },
    {
      "cell_type": "markdown",
      "source": [
        "# Concluding the Predictions of our 7 Algorithms"
      ],
      "metadata": {
        "id": "PoetICnW2u1i"
      }
    },
    {
      "cell_type": "code",
      "source": [
        "models = pd.DataFrame({\n",
        "    'Model':['Logistic Regression', 'Decision Tree', 'Random Forest', 'XGBoost', 'KNeighbours', 'SVM', 'AdaBoost'],\n",
        "    'Accuracy_score' :[lg_acc, dt_acc, rf_acc, xgb_acc, kn_acc, svm_acc, ada_acc]\n",
        "})\n",
        "models\n",
        "sns.barplot(x='Accuracy_score', y='Model', data=models)\n",
        "\n",
        "models.sort_values(by='Accuracy_score', ascending=False)"
      ],
      "metadata": {
        "colab": {
          "base_uri": "https://localhost:8080/",
          "height": 532
        },
        "id": "dFIx-wk62Wl2",
        "outputId": "d7f0958d-d1e6-47e4-e18a-0e97317a089f"
      },
      "execution_count": 205,
      "outputs": [
        {
          "output_type": "execute_result",
          "data": {
            "text/plain": [
              "                 Model  Accuracy_score\n",
              "2        Random Forest        0.687500\n",
              "3              XGBoost        0.661585\n",
              "6             AdaBoost        0.615854\n",
              "0  Logistic Regression        0.612805\n",
              "5                  SVM        0.612805\n",
              "1        Decision Tree        0.580793\n",
              "4          KNeighbours        0.570122"
            ],
            "text/html": [
              "\n",
              "  <div id=\"df-160e9dc5-a561-44a6-b5f7-ede71e5c35ef\">\n",
              "    <div class=\"colab-df-container\">\n",
              "      <div>\n",
              "<style scoped>\n",
              "    .dataframe tbody tr th:only-of-type {\n",
              "        vertical-align: middle;\n",
              "    }\n",
              "\n",
              "    .dataframe tbody tr th {\n",
              "        vertical-align: top;\n",
              "    }\n",
              "\n",
              "    .dataframe thead th {\n",
              "        text-align: right;\n",
              "    }\n",
              "</style>\n",
              "<table border=\"1\" class=\"dataframe\">\n",
              "  <thead>\n",
              "    <tr style=\"text-align: right;\">\n",
              "      <th></th>\n",
              "      <th>Model</th>\n",
              "      <th>Accuracy_score</th>\n",
              "    </tr>\n",
              "  </thead>\n",
              "  <tbody>\n",
              "    <tr>\n",
              "      <th>2</th>\n",
              "      <td>Random Forest</td>\n",
              "      <td>0.687500</td>\n",
              "    </tr>\n",
              "    <tr>\n",
              "      <th>3</th>\n",
              "      <td>XGBoost</td>\n",
              "      <td>0.661585</td>\n",
              "    </tr>\n",
              "    <tr>\n",
              "      <th>6</th>\n",
              "      <td>AdaBoost</td>\n",
              "      <td>0.615854</td>\n",
              "    </tr>\n",
              "    <tr>\n",
              "      <th>0</th>\n",
              "      <td>Logistic Regression</td>\n",
              "      <td>0.612805</td>\n",
              "    </tr>\n",
              "    <tr>\n",
              "      <th>5</th>\n",
              "      <td>SVM</td>\n",
              "      <td>0.612805</td>\n",
              "    </tr>\n",
              "    <tr>\n",
              "      <th>1</th>\n",
              "      <td>Decision Tree</td>\n",
              "      <td>0.580793</td>\n",
              "    </tr>\n",
              "    <tr>\n",
              "      <th>4</th>\n",
              "      <td>KNeighbours</td>\n",
              "      <td>0.570122</td>\n",
              "    </tr>\n",
              "  </tbody>\n",
              "</table>\n",
              "</div>\n",
              "      <button class=\"colab-df-convert\" onclick=\"convertToInteractive('df-160e9dc5-a561-44a6-b5f7-ede71e5c35ef')\"\n",
              "              title=\"Convert this dataframe to an interactive table.\"\n",
              "              style=\"display:none;\">\n",
              "        \n",
              "  <svg xmlns=\"http://www.w3.org/2000/svg\" height=\"24px\"viewBox=\"0 0 24 24\"\n",
              "       width=\"24px\">\n",
              "    <path d=\"M0 0h24v24H0V0z\" fill=\"none\"/>\n",
              "    <path d=\"M18.56 5.44l.94 2.06.94-2.06 2.06-.94-2.06-.94-.94-2.06-.94 2.06-2.06.94zm-11 1L8.5 8.5l.94-2.06 2.06-.94-2.06-.94L8.5 2.5l-.94 2.06-2.06.94zm10 10l.94 2.06.94-2.06 2.06-.94-2.06-.94-.94-2.06-.94 2.06-2.06.94z\"/><path d=\"M17.41 7.96l-1.37-1.37c-.4-.4-.92-.59-1.43-.59-.52 0-1.04.2-1.43.59L10.3 9.45l-7.72 7.72c-.78.78-.78 2.05 0 2.83L4 21.41c.39.39.9.59 1.41.59.51 0 1.02-.2 1.41-.59l7.78-7.78 2.81-2.81c.8-.78.8-2.07 0-2.86zM5.41 20L4 18.59l7.72-7.72 1.47 1.35L5.41 20z\"/>\n",
              "  </svg>\n",
              "      </button>\n",
              "      \n",
              "  <style>\n",
              "    .colab-df-container {\n",
              "      display:flex;\n",
              "      flex-wrap:wrap;\n",
              "      gap: 12px;\n",
              "    }\n",
              "\n",
              "    .colab-df-convert {\n",
              "      background-color: #E8F0FE;\n",
              "      border: none;\n",
              "      border-radius: 50%;\n",
              "      cursor: pointer;\n",
              "      display: none;\n",
              "      fill: #1967D2;\n",
              "      height: 32px;\n",
              "      padding: 0 0 0 0;\n",
              "      width: 32px;\n",
              "    }\n",
              "\n",
              "    .colab-df-convert:hover {\n",
              "      background-color: #E2EBFA;\n",
              "      box-shadow: 0px 1px 2px rgba(60, 64, 67, 0.3), 0px 1px 3px 1px rgba(60, 64, 67, 0.15);\n",
              "      fill: #174EA6;\n",
              "    }\n",
              "\n",
              "    [theme=dark] .colab-df-convert {\n",
              "      background-color: #3B4455;\n",
              "      fill: #D2E3FC;\n",
              "    }\n",
              "\n",
              "    [theme=dark] .colab-df-convert:hover {\n",
              "      background-color: #434B5C;\n",
              "      box-shadow: 0px 1px 3px 1px rgba(0, 0, 0, 0.15);\n",
              "      filter: drop-shadow(0px 1px 2px rgba(0, 0, 0, 0.3));\n",
              "      fill: #FFFFFF;\n",
              "    }\n",
              "  </style>\n",
              "\n",
              "      <script>\n",
              "        const buttonEl =\n",
              "          document.querySelector('#df-160e9dc5-a561-44a6-b5f7-ede71e5c35ef button.colab-df-convert');\n",
              "        buttonEl.style.display =\n",
              "          google.colab.kernel.accessAllowed ? 'block' : 'none';\n",
              "\n",
              "        async function convertToInteractive(key) {\n",
              "          const element = document.querySelector('#df-160e9dc5-a561-44a6-b5f7-ede71e5c35ef');\n",
              "          const dataTable =\n",
              "            await google.colab.kernel.invokeFunction('convertToInteractive',\n",
              "                                                     [key], {});\n",
              "          if (!dataTable) return;\n",
              "\n",
              "          const docLinkHtml = 'Like what you see? Visit the ' +\n",
              "            '<a target=\"_blank\" href=https://colab.research.google.com/notebooks/data_table.ipynb>data table notebook</a>'\n",
              "            + ' to learn more about interactive tables.';\n",
              "          element.innerHTML = '';\n",
              "          dataTable['output_type'] = 'display_data';\n",
              "          await google.colab.output.renderOutput(dataTable, element);\n",
              "          const docLink = document.createElement('div');\n",
              "          docLink.innerHTML = docLinkHtml;\n",
              "          element.appendChild(docLink);\n",
              "        }\n",
              "      </script>\n",
              "    </div>\n",
              "  </div>\n",
              "  "
            ]
          },
          "metadata": {},
          "execution_count": 205
        },
        {
          "output_type": "display_data",
          "data": {
            "text/plain": [
              "<Figure size 432x288 with 1 Axes>"
            ],
            "image/png": "[encoded data removed]"
          },
          "metadata": {
            "needs_background": "light"
          }
        }
      ]
    },
    {
      "cell_type": "code",
      "source": [],
      "metadata": {
        "id": "Nz1BcRQB2qtl"
      },
      "execution_count": null,
      "outputs": []
    },
    {
      "cell_type": "markdown",
      "source": [
        "Here Random Forest achieved the highest accuracy."
      ],
      "metadata": {
        "id": "vXOJzuDg3Q5s"
      }
    },
    {
      "cell_type": "code",
      "source": [],
      "metadata": {
        "id": "1ImveS_B3Y-2"
      },
      "execution_count": null,
      "outputs": []
    }
  ]
}